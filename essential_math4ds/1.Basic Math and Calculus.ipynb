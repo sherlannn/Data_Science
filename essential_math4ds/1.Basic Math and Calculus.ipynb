{
 "cells": [
  {
   "cell_type": "markdown",
   "id": "74bc03a5",
   "metadata": {},
   "source": [
    "# Chapter 1 :"
   ]
  },
  {
   "cell_type": "markdown",
   "id": "55be0c5c",
   "metadata": {},
   "source": [
    "## Basic Math and Calculus needed for Data Science"
   ]
  },
  {
   "cell_type": "markdown",
   "id": "92ae9a6e",
   "metadata": {},
   "source": [
    "### Based on the book : Essential Math for Data Science by Thomas Nield"
   ]
  },
  {
   "cell_type": "code",
   "execution_count": 1,
   "id": "eaddaa4d",
   "metadata": {},
   "outputs": [],
   "source": [
    "##############################################################################"
   ]
  },
  {
   "cell_type": "markdown",
   "id": "08e6aad0",
   "metadata": {},
   "source": [
    "### Number Theory"
   ]
  },
  {
   "cell_type": "markdown",
   "id": "f9c36d8f",
   "metadata": {},
   "source": [
    "#### Natural numbers : These are the numbers 1, 2, 3, 4, 5… and so on.\n",
    "#### Whole numbers : Adding to natural numbers, the concept of “0” was later accepted; we call these whole numbers.\n",
    "#### Integers : Integers include positive and negative natural numbers as well as 0.\n",
    "#### Rational numbers: Any number that you can express as a fraction, such as 2/3, is a rational number.\n",
    "#### Irrational numbers : Irrational numbers cannot be expressed as a fraction. This includes the famous π, square roots of certain numbers like √2, and Euler’s number e and ... .\n",
    "#### Real numbers : Real numbers include rational as well as irrational numbers.\n",
    "#### Complex and imaginary numbers : You encounter this number type when you take the square root of a negative number."
   ]
  },
  {
   "cell_type": "code",
   "execution_count": 2,
   "id": "c095782c",
   "metadata": {},
   "outputs": [],
   "source": [
    "###################################################################################"
   ]
  },
  {
   "cell_type": "markdown",
   "id": "a078851e",
   "metadata": {},
   "source": [
    "### order of operations\n",
    "#### evaluate components in parentheses, followed by exponents, then multiplication, division, addition, and subtraction."
   ]
  },
  {
   "cell_type": "code",
   "execution_count": 3,
   "id": "b97a7aed",
   "metadata": {},
   "outputs": [
    {
     "name": "stdout",
     "output_type": "stream",
     "text": [
      "6.0\n"
     ]
    }
   ],
   "source": [
    "my_value = 2 * (3 + 2)**2 / 5 - 4\n",
    "print(my_value)"
   ]
  },
  {
   "cell_type": "code",
   "execution_count": 4,
   "id": "c6a35c4d",
   "metadata": {},
   "outputs": [],
   "source": [
    "##################################################################################"
   ]
  },
  {
   "cell_type": "markdown",
   "id": "59923f95",
   "metadata": {},
   "source": [
    "### variable\n",
    "#### In mathematics, a variable is a named placeholder for an unspecified or unknown number."
   ]
  },
  {
   "cell_type": "code",
   "execution_count": 5,
   "id": "5c54eb3d",
   "metadata": {},
   "outputs": [
    {
     "name": "stdout",
     "output_type": "stream",
     "text": [
      "Please input a number\n",
      "5\n",
      "5\n"
     ]
    }
   ],
   "source": [
    "variable = int(input(\"Please input a number\\n\"))\n",
    "print(variable)"
   ]
  },
  {
   "cell_type": "code",
   "execution_count": 6,
   "id": "5fa2d7f0",
   "metadata": {},
   "outputs": [],
   "source": [
    "##################################################################################"
   ]
  },
  {
   "cell_type": "markdown",
   "id": "f816f6ce",
   "metadata": {},
   "source": [
    "### function\n",
    "#### A function takes input variables (also called domain variables or independent variables), plugs them into an expression, and then results in an output variable (also called dependent variable).\n",
    "#### for example : f(x) = 5x + 3 for x = 1 equals 8"
   ]
  },
  {
   "cell_type": "code",
   "execution_count": 7,
   "id": "7f81d1a6",
   "metadata": {},
   "outputs": [
    {
     "name": "stdout",
     "output_type": "stream",
     "text": [
      "8\n"
     ]
    }
   ],
   "source": [
    "def f(x):\n",
    "    print((5*x) + 3)\n",
    "f(1)"
   ]
  },
  {
   "cell_type": "markdown",
   "id": "1f964098",
   "metadata": {},
   "source": [
    "SymPy is a Python library for symbolic mathematics. It aims to become a full-featured computer algebra system (CAS) while keeping the code as simple as possible in order to be comprehensible and easily extensible."
   ]
  },
  {
   "cell_type": "code",
   "execution_count": 1,
   "id": "7e017809",
   "metadata": {},
   "outputs": [],
   "source": [
    "#pip install ipykernel\n",
    "#python -m ipykernel install --user\n",
    "#use these commands in your cmd to let your jupyter notebook use your 3rd party python packgaes without any issue. "
   ]
  },
  {
   "cell_type": "code",
   "execution_count": 9,
   "id": "e9427013",
   "metadata": {},
   "outputs": [
    {
     "name": "stdout",
     "output_type": "stream",
     "text": [
      "     50 |                                                     ..\n",
      "        |                                                  ...  \n",
      "        |                                               ...     \n",
      "        |                                             ..        \n",
      "        |                                          ...          \n",
      "        |                                       ...             \n",
      "        |                                    ...                \n",
      "        |                                  ..                   \n",
      "        |                               ...                     \n",
      "        |                            ...                        \n",
      "      0 |--------------------------..---------------------------\n",
      "        |                       ...                             \n",
      "        |                    ...                                \n",
      "        |                  ..                                   \n",
      "        |               ...                                     \n",
      "        |            ...                                        \n",
      "        |         ...                                           \n",
      "        |       ..                                              \n",
      "        |    ...                                                \n",
      "        | ...                                                   \n",
      "    -50 |_______________________________________________________\n",
      "         -10                        0                          10\n"
     ]
    },
    {
     "data": {
      "text/plain": [
       "<sympy.plotting.plot.Plot at 0x25007616310>"
      ]
     },
     "execution_count": 9,
     "metadata": {},
     "output_type": "execute_result"
    }
   ],
   "source": [
    "from sympy import plot, symbols\n",
    "x = symbols('x')\n",
    "f = (5*x) + 1\n",
    "plot(f)"
   ]
  },
  {
   "cell_type": "markdown",
   "id": "c2e278f2",
   "metadata": {},
   "source": [
    "SymPy is a Python library for symbolic mathematics. It aims to become a full-featured computer algebra system (CAS) while keeping the code as simple as possible in order to be comprehensible and easily extensible."
   ]
  },
  {
   "cell_type": "code",
   "execution_count": 11,
   "id": "b47db1a9",
   "metadata": {},
   "outputs": [],
   "source": [
    "###########################################################################"
   ]
  },
  {
   "cell_type": "markdown",
   "id": "67f326d7",
   "metadata": {},
   "source": [
    "### Summations\n",
    "#### A summation is expressed as a sigma Σ and adds elements together.\n"
   ]
  },
  {
   "cell_type": "code",
   "execution_count": 18,
   "id": "c3684214",
   "metadata": {},
   "outputs": [
    {
     "name": "stdout",
     "output_type": "stream",
     "text": [
      "55\n"
     ]
    }
   ],
   "source": [
    "# this code below generates a list of numbers from 1 to 10, then operates sum function and then prints the result\n",
    "our_list = list(range(1,11))\n",
    "summation = sum(our_list)\n",
    "print(summation)"
   ]
  },
  {
   "cell_type": "code",
   "execution_count": 19,
   "id": "0809b202",
   "metadata": {},
   "outputs": [],
   "source": [
    "##############################################################################"
   ]
  },
  {
   "cell_type": "markdown",
   "id": "81df1887",
   "metadata": {},
   "source": [
    "### Exponents\n",
    "#### Exponents multiply a number by itself a specified number of times.\n",
    "#### When we multiply exponents together with the same base, we simply add the exponents, which is known as the product rule.\n",
    "#### Any base with an exponent of 0 is 1 .\n",
    "#### An exponent of an exponent will multiply the exponents together. This is known as the power rule. (2 ^ 3) ^ 4 = 2 ^ (3*4) "
   ]
  },
  {
   "cell_type": "code",
   "execution_count": 20,
   "id": "4e804c63",
   "metadata": {},
   "outputs": [
    {
     "data": {
      "text/plain": [
       "True"
      ]
     },
     "execution_count": 20,
     "metadata": {},
     "output_type": "execute_result"
    }
   ],
   "source": [
    "(2 ** 3) ** 4 == 2 ** (3*4)"
   ]
  },
  {
   "cell_type": "code",
   "execution_count": 21,
   "id": "f4df9665",
   "metadata": {},
   "outputs": [],
   "source": [
    "#############################################################################"
   ]
  },
  {
   "cell_type": "markdown",
   "id": "089d3ccd",
   "metadata": {},
   "source": [
    "### Logarithms\n",
    "#### A logarithm is a math function that finds a power for a specific number and base."
   ]
  },
  {
   "cell_type": "code",
   "execution_count": 23,
   "id": "8971e317",
   "metadata": {},
   "outputs": [
    {
     "name": "stdout",
     "output_type": "stream",
     "text": [
      "3.0\n"
     ]
    }
   ],
   "source": [
    "from math import log\n",
    "# 3 raised to what power gives me 27?\n",
    "print(log(27, 3))"
   ]
  },
  {
   "cell_type": "markdown",
   "id": "65a28dcb",
   "metadata": {},
   "source": [
    "### Euler’s Number\n",
    "#### There is a special number that shows up quite a bit in math called Euler’s number e. It is a special number much like Pi π and is approximately 2.71828. e is used a lot because it mathematically simplifies a lot of problems. A property of Euler’s number is its exponential function is a derivative to itself. \n",
    "#### e is the resulting value of the expression (1 + 1/n) ^n as n forever gets bigger and bigger, thus approaching infinity.\n"
   ]
  },
  {
   "cell_type": "markdown",
   "id": "c28d4856",
   "metadata": {},
   "source": [
    "### Natural Logarithms\n",
    "#### When we use e as our base for a logarithm, we call it a natural logarithm.\n",
    "#### Depending on the platform, we may use \"ln\" instead of \"log\" to specify a natural logarithm.\n",
    "in puthon the default base for the log() function is e."
   ]
  },
  {
   "cell_type": "code",
   "execution_count": 24,
   "id": "90bf968d",
   "metadata": {},
   "outputs": [
    {
     "name": "stdout",
     "output_type": "stream",
     "text": [
      "2.302585092994046\n"
     ]
    }
   ],
   "source": [
    "from math import log\n",
    "# e raised to what power gives us 10?\n",
    "print(log(10))"
   ]
  },
  {
   "cell_type": "code",
   "execution_count": 25,
   "id": "c9024584",
   "metadata": {},
   "outputs": [],
   "source": [
    "########################################################################"
   ]
  },
  {
   "cell_type": "markdown",
   "id": "3dc1320e",
   "metadata": {},
   "source": [
    "### Limits"
   ]
  },
  {
   "cell_type": "markdown",
   "id": "ff09d95c",
   "metadata": {},
   "source": [
    "#### as x approaches infinity, the function f(x) approaches to y (but never reaches y). this is simply calles limit !\n",
    "#### for example suppose euler's expression, as n approaches infinity, the function approaches to e.\n"
   ]
  },
  {
   "cell_type": "code",
   "execution_count": 26,
   "id": "ff208f51",
   "metadata": {},
   "outputs": [
    {
     "name": "stdout",
     "output_type": "stream",
     "text": [
      "2.71828182845905\n"
     ]
    }
   ],
   "source": [
    "from sympy import *\n",
    "n = symbols('n')\n",
    "f = (1 + (1/n))**n\n",
    "e = limit(f, n, oo)\n",
    "print(e.evalf())"
   ]
  },
  {
   "cell_type": "code",
   "execution_count": 27,
   "id": "38bedc92",
   "metadata": {},
   "outputs": [],
   "source": [
    "##########################################################################"
   ]
  },
  {
   "cell_type": "markdown",
   "id": "cb625456",
   "metadata": {},
   "source": [
    "### <font color = red> Derivatives </font>\n",
    "####  A derivative tells the slope of a function, and it is useful to measure the rate of change at any point in a function.\n",
    "#### the slope is 0, that means we are at the minimum or maximum of an output variable.\n",
    "Let’s start with a simple example. Let’s take a look at the function f (x) = x ^ 2. Take x = 2 and a nearby value x = 2.1, the function f (x) will yield f(2) = 4 and f(2.1) = 4.41 . The resulting line that passes through these two points has a slope of 4.1 using the formula m = (y2 - y1) / (x2 - x1)"
   ]
  },
  {
   "cell_type": "code",
   "execution_count": 3,
   "id": "0636a279",
   "metadata": {},
   "outputs": [
    {
     "name": "stdout",
     "output_type": "stream",
     "text": [
      "4.099999999999998\n",
      "4.000099999999392\n"
     ]
    }
   ],
   "source": [
    "def slope(input_function, x, step_size):\n",
    "     m = (input_function(x + step_size) - input_function(x)) / ((x + step_size) - x)\n",
    "     return m\n",
    "def input_function(x):\n",
    "     return x**2\n",
    "print(slope(input_function, 2, .1))\n",
    "print(slope(input_function, 2, .0001))\n"
   ]
  },
  {
   "cell_type": "markdown",
   "id": "9b3a1ab5",
   "metadata": {},
   "source": [
    "As we make the step size smaller, the evaluation of m is more accurate. and this is the simple definition of derivarives."
   ]
  },
  {
   "cell_type": "markdown",
   "id": "2214b3e3",
   "metadata": {},
   "source": [
    "#### we can use sympy to calculate the derivative of a function"
   ]
  },
  {
   "cell_type": "code",
   "execution_count": 6,
   "id": "0c24c23a",
   "metadata": {},
   "outputs": [
    {
     "name": "stdout",
     "output_type": "stream",
     "text": [
      "the derivative is :  2*x\n",
      "the slope for the function in x = 2 is :  4\n"
     ]
    }
   ],
   "source": [
    "from sympy import *\n",
    "x = symbols('x')\n",
    "f = x**2\n",
    "\n",
    "# diff(arg) function calculates the given arg function\n",
    "result = diff(f)\n",
    "print(\"the derivative is : \",result)\n",
    "result_for_2 = result.subs(x,2)\n",
    "print(\"the slope for the function in x = 2 is : \", result_for_2)               "
   ]
  },
  {
   "cell_type": "markdown",
   "id": "7306cd46",
   "metadata": {},
   "source": [
    "### Partial Derivatives\n",
    "#### Think of it this way. Rather than finding the slope on a one-dimensional function, we have slopes with respect to multiple variables in several directions. For each given variable derivative, we assume the other variables are held constant. for example this function :  f (x, y) = 2x^3 + 3y^3, the derivative for x is 6x^2 and for y is 9y^2 .\n",
    "lets cook this n sympy :"
   ]
  },
  {
   "cell_type": "code",
   "execution_count": 7,
   "id": "84f4cae1",
   "metadata": {},
   "outputs": [
    {
     "name": "stdout",
     "output_type": "stream",
     "text": [
      "6*x**2\n",
      "9*y**2\n"
     ]
    }
   ],
   "source": [
    "x,y = symbols('x y')\n",
    "f = 2*x**3 + 3*y**3\n",
    "\n",
    "# Calculate the partial derivatives for x and y\n",
    "print(diff(f, x))\n",
    "print(diff(f, y))"
   ]
  },
  {
   "cell_type": "markdown",
   "id": "38bc3cc0",
   "metadata": {},
   "source": [
    "### The Chain Rule\n",
    "#### Let’s say you are given two functions: y = x^2 + 1  & z = y^3 - 2.  Notice that these two functions are linked, so we can say :\n",
    "#### z = (x^2 + 1)^3 − 2\n",
    "So what is the derivative for z with respect to x? lets calculate using sumpy :"
   ]
  },
  {
   "cell_type": "code",
   "execution_count": 9,
   "id": "0e9f6cb9",
   "metadata": {},
   "outputs": [
    {
     "name": "stdout",
     "output_type": "stream",
     "text": [
      "6*x*(x**2 + 1)**2\n"
     ]
    }
   ],
   "source": [
    "z = (x**2 + 1)**3 - 2\n",
    "print(diff(z, x))"
   ]
  },
  {
   "cell_type": "markdown",
   "id": "bfedf0db",
   "metadata": {},
   "source": [
    "#### But look at this. Let’s start over and take a different approach. If we take the derivatives of the y and z functions separately, and then multiply them dz dx together, this also produces the derivative of z with respect to x. Now we see we got the same derivative function! This is the chain rule. dz/dx = dz/dy * dy/dx"
   ]
  },
  {
   "cell_type": "code",
   "execution_count": 10,
   "id": "bd835336",
   "metadata": {},
   "outputs": [],
   "source": [
    "########################################################################"
   ]
  },
  {
   "cell_type": "markdown",
   "id": "83b04ade",
   "metadata": {},
   "source": [
    "### <font color = red > Integral </font>\n",
    "#### The opposite of a derivative is an integral, which finds the area under the curve for a given range.\n",
    "#### Using SymPy to perform integration : in this case we want to find for the function f(x)= x^2 +1\n",
    "##### Use integrate() function in sympy to calculate it."
   ]
  },
  {
   "cell_type": "code",
   "execution_count": 12,
   "id": "6b08248a",
   "metadata": {},
   "outputs": [
    {
     "name": "stdout",
     "output_type": "stream",
     "text": [
      "1.33333333333333\n"
     ]
    }
   ],
   "source": [
    "x = symbols('x')\n",
    "f = x**2 + 1\n",
    "\n",
    "# for the function f and area between x = 0 and x = 1\n",
    "print(integrate(f, (x, 0, 1)).evalf())"
   ]
  },
  {
   "cell_type": "code",
   "execution_count": null,
   "id": "c8095b0d",
   "metadata": {},
   "outputs": [],
   "source": []
  }
 ],
 "metadata": {
  "kernelspec": {
   "display_name": "Python 3 (ipykernel)",
   "language": "python",
   "name": "python3"
  },
  "language_info": {
   "codemirror_mode": {
    "name": "ipython",
    "version": 3
   },
   "file_extension": ".py",
   "mimetype": "text/x-python",
   "name": "python",
   "nbconvert_exporter": "python",
   "pygments_lexer": "ipython3",
   "version": "3.11.4"
  }
 },
 "nbformat": 4,
 "nbformat_minor": 5
}

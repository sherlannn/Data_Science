{
 "cells": [
  {
   "cell_type": "markdown",
   "id": "8fdf02df",
   "metadata": {},
   "source": [
    "# <font color = red> Section 2 : Probability </font>\n",
    "## Probability is the theoretical study of measuring certainty that an event will happen. In details probability is how strongly we believe an event will happen, often expressed as a percentage.\n",
    "## We call this probability P(X), where X is the event of interest. you will more likely see it expressed as a decimal, which must be between 0.0 and 1.0: P(X) = .83\n",
    "## Probability is about quantifying predictions of events yet to happen, whereas likelihood is measuring the frequency of events that already occurred.\n",
    "## the probability of an event not happening is calculated by subtracting the probability of the event from 1.0: P(X) = .83 then P(not X) = 1 − .83 = .17\n"
   ]
  },
  {
   "cell_type": "markdown",
   "id": "112824ba",
   "metadata": {},
   "source": [
    "## Probability vs odds :  P(x) = O(x) / (1 + O(x))  <=>  O(x) = P(x) / (1 - P(x))"
   ]
  },
  {
   "cell_type": "code",
   "execution_count": 15,
   "id": "e998419e",
   "metadata": {},
   "outputs": [
    {
     "name": "stdout",
     "output_type": "stream",
     "text": [
      "probability of event 1 is :  0.1634\n",
      "probability of event 2 is :  0.1664\n",
      "probability of event 3 is :  0.1652\n",
      "probability of event 4 is :  0.1694\n",
      "probability of event 5 is :  0.1658\n",
      "probability of event 6 is :  0.1698\n"
     ]
    }
   ],
   "source": [
    "# as you know, the probability of rolling a dice and getting each of events 1 to 6  is 1/6\n",
    "# now we want to roll a dice 10000 times and measure the probability of each event in python!\n",
    "import random\n",
    "\n",
    "p1, p2, p3, p4, p5, p6 = 0,0,0,0,0,0\n",
    "\n",
    "for i in range(10000):\n",
    "    num = random.randint(1,6)\n",
    "    if   num == 1 :\n",
    "        p1 += 1\n",
    "    elif num == 2:\n",
    "        p2 += 1\n",
    "    elif num == 3:\n",
    "        p3 += 1\n",
    "    elif num == 4:\n",
    "        p4 += 1\n",
    "    elif num == 5:\n",
    "        p5 += 1\n",
    "    elif num == 6:\n",
    "        p6 += 1\n",
    "print(\"probability of event 1 is : \", p1/10000)\n",
    "print(\"probability of event 2 is : \", p2/10000)\n",
    "print(\"probability of event 3 is : \", p3/10000)\n",
    "print(\"probability of event 4 is : \", p4/10000)\n",
    "print(\"probability of event 5 is : \", p5/10000)\n",
    "print(\"probability of event 6 is : \", p6/10000)"
   ]
  },
  {
   "cell_type": "code",
   "execution_count": 17,
   "id": "8979896b",
   "metadata": {},
   "outputs": [],
   "source": [
    "############################################################################"
   ]
  },
  {
   "cell_type": "markdown",
   "id": "75fab188",
   "metadata": {},
   "source": [
    "## Marginal probability\n",
    "### is a concept used in probability theory to determine the probability of an event occurring without considering any other related events. It focuses on a single variable of interest and ignores the values of other variables. To understand marginal probability, let's consider an example. Suppose you have a bag of colored marbles containing red, blue, and green marbles. Let's say there are 10 red marbles, 15 blue marbles, and 20 green marbles. So, the marginal probability of selecting a red marble would be 10/45."
   ]
  },
  {
   "cell_type": "code",
   "execution_count": 18,
   "id": "c550d8f0",
   "metadata": {},
   "outputs": [],
   "source": [
    "###############################################################################"
   ]
  },
  {
   "cell_type": "markdown",
   "id": "5c5bd146",
   "metadata": {},
   "source": [
    "## Joint probabilities\n",
    "### the probability of two or more events occurring simultaneously assuming they are independent\n",
    "### Let’s say you have a fair coin and a fair six-sided die. You want to find the probability of flipping a heads and rolling a 6 on the coin and die, respectively. These are two separate probabilities of two separate events, but we want to find the probability that both events will occur together. This is known as a joint probability. \n",
    "## Think of a joint probability as an AND operator <=> <font color = red>P(A AND B) = P(A) × P(B)</font> This is known as the product rule\n"
   ]
  },
  {
   "cell_type": "code",
   "execution_count": 19,
   "id": "6c9943a8",
   "metadata": {},
   "outputs": [],
   "source": [
    "#################################################################################"
   ]
  },
  {
   "cell_type": "markdown",
   "id": "2e3dbacb",
   "metadata": {},
   "source": [
    "## Union Probabilities\n",
    "### probability of getting event A or B. When we deal with OR operations with probabilities, this is known as a union probability.\n",
    "### <font color = red> mutually exclusive events, which are events that cannot occur simultaneously. </font>\n",
    "#### For example, if I roll one die I cannot simultaneously get a 4 and a 6. I can only get one outcome. \n",
    "### P(A OR B) = P(A) + P(B) - P(A AND B)  >>>>  Note that because in mutually exclusive events,  P(A AND B) equals 0 and then the formula becomes : P(A OR B) = P(A) + P(B)\n",
    "### <font color = red > nonmutually exclusive events, which are events that can occur simultaneously. </font>\n",
    "#### For example Let’s go back to the coin flip and die roll example. What is the probability of getting a heads OR a 6.\n",
    "### <font color = red>P(A OR B) = P(A) + P(B) − P(A AND B)</font> while P(A AND B) = P(A) × P(B). This is known as the sum rule of probability."
   ]
  },
  {
   "cell_type": "code",
   "execution_count": 20,
   "id": "032a765f",
   "metadata": {},
   "outputs": [],
   "source": [
    "####################################################################################"
   ]
  },
  {
   "cell_type": "markdown",
   "id": "a23cecd0",
   "metadata": {},
   "source": [
    "## Conditional Probability\n",
    "### probability of an event A occurring given event B has occurred. It is typically expressed as P(A GIVEN B) or P(A|B).\n",
    "## <font color = red>  Bayes’ Theorem </font>\n",
    "### <font color = red>P(A|B) = ( P(B|A) * P(A) ) / P(B)</font> ,  mainly it is used to flip conditional probabilities.\n",
    "#### for example : A study makes a claim that 85% of cancer patients drank coffee in America, the percentage of people diagnosed with cancer is 0.5% , and the percentage of people who drink coffee is 65% so P(Coffee) = .65 , P(Cancer) = .005 and P(Coffee|Cancer) = .85, with Bayes's theorem we can calculate  P(Cancer|Coffee) which is 0.0065 So the probability someone has cancer given they are a coffee drinker is only 0.65%!"
   ]
  },
  {
   "cell_type": "code",
   "execution_count": 22,
   "id": "cb28a851",
   "metadata": {},
   "outputs": [
    {
     "name": "stdout",
     "output_type": "stream",
     "text": [
      "0.006538461538461539\n"
     ]
    }
   ],
   "source": [
    "p_coffee_drinker = .65\n",
    "p_cancer = .005\n",
    "p_coffee_drinker_given_cancer = .85\n",
    "p_cancer_given_coffee_drinker = p_coffee_drinker_given_cancer * p_cancer / p_coffee_drinker\n",
    "print(p_cancer_given_coffee_drinker)"
   ]
  },
  {
   "cell_type": "markdown",
   "id": "98e6bd68",
   "metadata": {},
   "source": [
    "## Joint and Union Conditional Probabilities\n",
    "###  <font color = red> if event A has no impact on event B, then what does that mean for conditional probability P(B|A)? That means P(B|A) = P(B), meaning event A occurring makes no difference to how likely event B is to occur. </font>\n",
    "### so we can update our join and union probabilities quations : \n",
    "## <font color = red > P(A AND B) = P(B) × P(A|B)</font>\n",
    "## <font color = red > P(A OR  B) = P(A) + P(B) − (P(A|B) × P(B))</font>\n",
    "### then if A and B are mutually exclusives, then P(A|B) = 0 and we have the equations for mutually exclusive union and join probabilities!"
   ]
  },
  {
   "cell_type": "code",
   "execution_count": 23,
   "id": "891eb8a6",
   "metadata": {},
   "outputs": [],
   "source": [
    "##########################################################################"
   ]
  },
  {
   "cell_type": "markdown",
   "id": "8a70baa1",
   "metadata": {},
   "source": [
    "## <font color = red> Binomial Distribution </font>\n",
    "### Even a fair coin flip will not always have an equally split outcome, especially with only 10 flips. You are most likely to get five heads but you can also get three, four, six, or seven heads. You could even get 10 heads\n",
    "### One tool that might be relevant here is the binomial distribution, which measures how likely k successes can happen out of n trials given p probability. "
   ]
  },
  {
   "cell_type": "markdown",
   "id": "736fcc1b",
   "metadata": {},
   "source": [
    "Probability of getting number 6 in rilling a dice is 1/6 so with rolling 6 dice we should have 1 succes in getting number 6. Now lets roll the 6 dice 1000 times and find our Binomial Distribution:"
   ]
  },
  {
   "cell_type": "code",
   "execution_count": 7,
   "id": "d5ba2cef",
   "metadata": {},
   "outputs": [
    {
     "name": "stdout",
     "output_type": "stream",
     "text": [
      "0 time  :  324 and the percentage is :  32.4 %\n",
      "1 time  :  424 and the percentage is :  42.4 %\n",
      "2 times :  191 and the percentage is :  19.1 %\n",
      "3 times :  55 and the percentage is :  5.5 %\n",
      "4 times :  6 and the percentage is :  0.6 %\n",
      "5 times :  0 and the percentage is :  0.0 %\n",
      "6 times :  0 and the percentage is :  0.0 %\n"
     ]
    }
   ],
   "source": [
    "import random\n",
    "p0, p1, p2, p3, p4, p5, p6 = 0,0,0,0,0,0,0\n",
    "num = 0\n",
    "for i in range(1000):\n",
    "    for j in range(6):\n",
    "        rnd = random.randint(1,6)\n",
    "        if  rnd == 6 :\n",
    "            num +=1\n",
    "    if num == 0:\n",
    "        p0 += 1\n",
    "    elif num == 1 :    \n",
    "        p1 += 1\n",
    "    elif num == 2:\n",
    "        p2 += 1\n",
    "    elif num == 3:\n",
    "        p3 += 1\n",
    "    elif num == 4:\n",
    "        p4 += 1\n",
    "    elif num == 5:\n",
    "        p5 += 1\n",
    "    elif num == 6:\n",
    "        p6 += 1\n",
    "    num = 0    \n",
    "print(\"0 time  : \", p0 , \"and the percentage is : \", p0/10,\"%\")    \n",
    "print(\"1 time  : \", p1 , \"and the percentage is : \", p1/10,\"%\")\n",
    "print(\"2 times : \", p2 , \"and the percentage is : \", p2/10,\"%\")\n",
    "print(\"3 times : \", p3 , \"and the percentage is : \", p3/10,\"%\")\n",
    "print(\"4 times : \", p4 , \"and the percentage is : \", p4/10,\"%\")\n",
    "print(\"5 times : \", p5 , \"and the percentage is : \", p5/10,\"%\")\n",
    "print(\"6 times : \", p6 , \"and the percentage is : \", p6/10,\"%\")"
   ]
  },
  {
   "cell_type": "code",
   "execution_count": 8,
   "id": "54609f9d",
   "metadata": {},
   "outputs": [
    {
     "name": "stdout",
     "output_type": "stream",
     "text": [
      "0 - 33.65087054204396\n",
      "1 - 40.187370575390624\n",
      "2 - 19.997312696387436\n",
      "3 - 5.307040619664769\n",
      "4 - 0.7922380781154233\n",
      "5 - 0.06307507000823037\n",
      "6 - 0.0020924183895616013\n"
     ]
    }
   ],
   "source": [
    "#now lets use scipy library for its built in binomial disturbtion function for our previous test\n",
    "from scipy.stats import binom\n",
    "n = 6\n",
    "p = 0.166\n",
    "for k in range(n + 1):\n",
    " probability = binom.pmf(k, n, p)\n",
    " print(\"{0} - {1}\".format(k, probability*100))"
   ]
  },
  {
   "cell_type": "code",
   "execution_count": 2,
   "id": "b8991885",
   "metadata": {},
   "outputs": [],
   "source": [
    "######################################################################################"
   ]
  },
  {
   "cell_type": "markdown",
   "id": "cc0ea0ff",
   "metadata": {},
   "source": [
    "## <font color = red> Beta Distribution</font>"
   ]
  },
  {
   "cell_type": "markdown",
   "id": "8ef17e8e",
   "metadata": {},
   "source": [
    "##  The beta distribution allows us to see the likelihood of different underlying probabilities for an event to occur given alpha successes and beta failures. The beta distribution is a type of probability distribution, which means the area under the entire curve is 1.0, or 100%. To find a probability, we need to find the area within a range. For example, if we want to evaluate the probability alpha successes would yield 90% or higher success rate, we need to find the area between 0.9 and 1.0 ."
   ]
  },
  {
   "cell_type": "code",
   "execution_count": 14,
   "id": "df082430",
   "metadata": {},
   "outputs": [
    {
     "name": "stdout",
     "output_type": "stream",
     "text": [
      "22.51590219999998 % the probability of 90% or higher success rate\n"
     ]
    }
   ],
   "source": [
    "#now lets use scipy for calculation an easy sample : \n",
    "from scipy.stats import beta\n",
    "a = 8 #number of alpha or success 8/10\n",
    "b = 2 #number of beta or failure  10-8 = 2/10\n",
    "p = 1 - beta.cdf(.90, a, b)  #beta.cdf(.90, a, b) this calculates 0~90% so for 90~100% we should decrease the result from 1\n",
    "print(p*100 ,\"% the probability of 90% or higher success rate\")"
   ]
  },
  {
   "cell_type": "markdown",
   "id": "5c361d7f",
   "metadata": {},
   "source": [
    "### This means that out of 8/10 successful tests, there is only a 22.5% chance the underlying success rate is 90% or greater."
   ]
  },
  {
   "cell_type": "code",
   "execution_count": null,
   "id": "4fbf5205",
   "metadata": {},
   "outputs": [],
   "source": [
    "#####################################################################################"
   ]
  }
 ],
 "metadata": {
  "kernelspec": {
   "display_name": "Python 3 (ipykernel)",
   "language": "python",
   "name": "python3"
  },
  "language_info": {
   "codemirror_mode": {
    "name": "ipython",
    "version": 3
   },
   "file_extension": ".py",
   "mimetype": "text/x-python",
   "name": "python",
   "nbconvert_exporter": "python",
   "pygments_lexer": "ipython3",
   "version": "3.11.4"
  }
 },
 "nbformat": 4,
 "nbformat_minor": 5
}

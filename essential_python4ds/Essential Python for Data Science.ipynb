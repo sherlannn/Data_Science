{
 "cells": [
  {
   "cell_type": "markdown",
   "id": "b3de9338-f6b9-4522-91a1-2c26311c4683",
   "metadata": {},
   "source": [
    "# <font color=red> Essential Python for Data Science by Ehsan Mokhtari</font>"
   ]
  },
  {
   "cell_type": "markdown",
   "id": "4741dfa5-68e6-4670-8159-d050a1acac15",
   "metadata": {},
   "source": [
    "## <font color=red>Python Basics</font>"
   ]
  },
  {
   "cell_type": "code",
   "execution_count": 1,
   "id": "0543a59d-3a68-46ca-985d-93f6cbf11c4d",
   "metadata": {},
   "outputs": [],
   "source": [
    "# help(module_name) >>> you can use help for instructions about modules\n",
    "# type(object)     >>> shows the type of the objs"
   ]
  },
  {
   "cell_type": "markdown",
   "id": "bba7a66f-eab6-483a-8ca7-bcfedf572a85",
   "metadata": {},
   "source": [
    "## <font color=red>Pip</font>"
   ]
  },
  {
   "cell_type": "code",
   "execution_count": 2,
   "id": "3b404176-2f76-40f8-9d42-b112c025050a",
   "metadata": {},
   "outputs": [],
   "source": [
    "# python -m pip install --upgrade pip  >>> for upgrading pip using cmd\n",
    "# pip list  >>> list of all 3rd-party installed python libraries\n",
    "# pip install module_name  >>> install new 3rd-party library\n",
    "# pip install --upgrade module_name >>> upgrading module\n",
    "# pip uninstall modeule_name >>> remove module\n",
    "# pip list --outdated  >>> list all outdated libraries\n",
    "\n",
    "# for updating python and its built-in libraries, you should install new python"
   ]
  },
  {
   "cell_type": "markdown",
   "id": "b04160b2-1c4e-4339-b82f-7125107e8b76",
   "metadata": {},
   "source": [
    "## <font color=red>Jupyter Notebook</font>"
   ]
  },
  {
   "cell_type": "code",
   "execution_count": 48,
   "id": "58a8d99a-1bda-48fb-aa85-7f7530cf51c5",
   "metadata": {},
   "outputs": [],
   "source": [
    "# pip install ipython\n",
    "# pip install jupyterlab\n",
    "# pip install notebook\n",
    "\n",
    "# if we have already installed a 3rd-party library and it doesn't load up in jupyter notebook:\n",
    "# pip install ipykernel\n",
    "# python -m ipykernel install --user"
   ]
  },
  {
   "cell_type": "markdown",
   "id": "9b09eb14-a7ba-4717-a6e4-5e45bd52170a",
   "metadata": {},
   "source": [
    "## <font color=red> 1. Basic</font>\n",
    "### The general way for naming variables is <font color=green>snake naming</font> : var_var_var , and for constant variables is : <font color=green>Capital_Capital</font> .\n",
    "### every variable inside a function is called : <font color=green> local</font>, and outside of a function is called : <font color=green> global</font>."
   ]
  },
  {
   "cell_type": "code",
   "execution_count": 3,
   "id": "3637eb7d-7004-4b82-bdbb-0aed535251c6",
   "metadata": {},
   "outputs": [
    {
     "name": "stdout",
     "output_type": "stream",
     "text": [
      "None\n"
     ]
    }
   ],
   "source": [
    "'''vaiables'''\n",
    "my_var = 10\n",
    "del my_var #removes the var from memory\n",
    "# a = 1; b= 2; a,b=b,a    simply swaping the var values\n",
    "\n",
    "# None is absenceof a value\n",
    "print(None)"
   ]
  },
  {
   "cell_type": "code",
   "execution_count": 4,
   "id": "091476d7-8e67-46ff-af1d-4143b062cc25",
   "metadata": {},
   "outputs": [
    {
     "name": "stdout",
     "output_type": "stream",
     "text": [
      "hellohellohello\n",
      "hello ehsan this is 21\n"
     ]
    }
   ],
   "source": [
    "'''output'''\n",
    "# print(\"hello\",21) >>> commoon printing format\n",
    "# print(\"hello\" + \" i am Ehsan\") >>> printing strins \n",
    "# we can use \\n for new line in string\n",
    "print(3*\"hello\")\n",
    "print(\"hello {0} this is {1}\".format(\"ehsan\",21))"
   ]
  },
  {
   "cell_type": "code",
   "execution_count": 5,
   "id": "80ae3ed9-44e7-44b2-8dfb-7ea503a39455",
   "metadata": {},
   "outputs": [
    {
     "name": "stdout",
     "output_type": "stream",
     "text": [
      "3.3333333333333335\n",
      "100\n",
      "3.1622776601683795\n",
      "1\n",
      "3\n"
     ]
    }
   ],
   "source": [
    "'''simple operators'''\n",
    "var1 = 10; var2 = 3\n",
    "# print(var1+var2); print(var1-var2); print(var1*var2)\n",
    "print(var1/var2) #division produces float result\n",
    "print(var1**2) # var1 to the power of 2\n",
    "print(var1**(1/2)) #root of var1\n",
    "print(var1%var2) #reminder of division\n",
    "print(var1//var2) #quotient of division\n",
    "# var2 += 1  >>> inplace operator"
   ]
  },
  {
   "cell_type": "code",
   "execution_count": 6,
   "id": "f3b785bd-60a1-44c8-a713-083f0b377ce9",
   "metadata": {},
   "outputs": [
    {
     "data": {
      "text/plain": [
       "'input'"
      ]
     },
     "execution_count": 6,
     "metadata": {},
     "output_type": "execute_result"
    }
   ],
   "source": [
    "'''input'''\n",
    "# a = input() >>> always reads in str format"
   ]
  },
  {
   "cell_type": "code",
   "execution_count": 7,
   "id": "77fc8dcd-b279-491c-ba2e-ad6bfdd6ea4b",
   "metadata": {},
   "outputs": [
    {
     "name": "stdout",
     "output_type": "stream",
     "text": [
      "<class 'int'>\n"
     ]
    }
   ],
   "source": [
    "'''type conversion'''\n",
    "# int(var); str(var); float(var)\n",
    "a = \"3\"; b = int(a); print(type(b))"
   ]
  },
  {
   "cell_type": "markdown",
   "id": "b3ed67c3-c699-413a-8cf2-cf216c0e0e53",
   "metadata": {},
   "source": [
    "## <font color=red> 2.Control Operations</font>"
   ]
  },
  {
   "cell_type": "code",
   "execution_count": 8,
   "id": "479a24cd-8aae-4d23-971a-5263437f1160",
   "metadata": {},
   "outputs": [
    {
     "name": "stdout",
     "output_type": "stream",
     "text": [
      "False\n",
      "True\n"
     ]
    }
   ],
   "source": [
    "'''bool and comparision'''\n",
    "x = True; y = False\n",
    "print(2 == 3)\n",
    "print(2 != 3)\n",
    "# print(2 > 3) also we have >= < <="
   ]
  },
  {
   "cell_type": "code",
   "execution_count": 9,
   "id": "32b3a24f-051c-4666-98fc-969592767102",
   "metadata": {},
   "outputs": [
    {
     "name": "stdout",
     "output_type": "stream",
     "text": [
      "equal\n",
      "10\n"
     ]
    }
   ],
   "source": [
    "'''if'''\n",
    "a = 5\n",
    "if a < 5:\n",
    "    print(\"smaller\")\n",
    "elif a ==5:\n",
    "    print(\"equal\")\n",
    "else:\n",
    "    print(\"greater\")    \n",
    "###########################\n",
    "# terinary operator\n",
    "b = 10 if a==5 else 15; print(b)"
   ]
  },
  {
   "cell_type": "code",
   "execution_count": 10,
   "id": "06a09278-9b8c-499c-9ecf-cc11d800284f",
   "metadata": {},
   "outputs": [
    {
     "name": "stdout",
     "output_type": "stream",
     "text": [
      "False\n",
      "True\n",
      "True\n"
     ]
    }
   ],
   "source": [
    "'''logical operators'''\n",
    "print(2==3 and 5==5)  # and\n",
    "print(2==3 or 5==5)   # or\n",
    "print(not 1==3)       # not"
   ]
  },
  {
   "cell_type": "code",
   "execution_count": 11,
   "id": "57527f64-2204-45e1-950c-1dbda396eb09",
   "metadata": {},
   "outputs": [
    {
     "name": "stdout",
     "output_type": "stream",
     "text": [
      "0\n",
      "1\n",
      "3\n"
     ]
    }
   ],
   "source": [
    "'''while'''\n",
    "i = 0\n",
    "while i < 5 :\n",
    "    if i == 2:\n",
    "        i +=1  #after continue, the i remains 2 and infinite loops, so we need to do sth before continue\n",
    "        continue\n",
    "    if i == 4:\n",
    "        break\n",
    "    print(i)    \n",
    "    i +=1\n",
    "#########\n",
    "# infinite while\n",
    "# while True:\n",
    "#    do sth\n",
    "#########"
   ]
  },
  {
   "cell_type": "code",
   "execution_count": 12,
   "id": "5774212b-06d8-4fdf-9c44-12e68cd4733b",
   "metadata": {},
   "outputs": [
    {
     "name": "stdout",
     "output_type": "stream",
     "text": [
      "0\n",
      "1\n",
      "2\n",
      "[10, 8, 6, 4, 2]\n"
     ]
    }
   ],
   "source": [
    "'''for'''\n",
    "for i in range(5):\n",
    "    if i == 3:\n",
    "        continue\n",
    "    if i == 4:\n",
    "        break\n",
    "    print(i)\n",
    "################\n",
    "# range(n) >>> creates sequential list from 0 to n-1 and has an range object\n",
    "# a = list (range(n)) >>> converts it to a list obj   \n",
    "# range(3, 7)  >>> 3,4,5,6\n",
    "# range(2,11,3) >>> 2,5,8\n",
    "print(list(range(10,1,-2)))\n",
    "################\n",
    "# for i in my_list:\n",
    "#     do sth"
   ]
  },
  {
   "cell_type": "markdown",
   "id": "e3e6a514-e872-4897-934f-1d2f078d426e",
   "metadata": {},
   "source": [
    "## <font color=red> 3.Data Structures</font>"
   ]
  },
  {
   "cell_type": "code",
   "execution_count": 13,
   "id": "cdce5d3a-3357-443a-a6a1-fc2230774582",
   "metadata": {},
   "outputs": [
    {
     "name": "stdout",
     "output_type": "stream",
     "text": [
      "<class 'list'>\n",
      "21\n",
      "1\n",
      "[21, True, 3.75, 'Roma']\n",
      "['hello', True, 'Roma']\n",
      "['hello', True, 3.75, 'Roma', 1]\n",
      "False\n",
      "[2, 'ehsan', 2, 'ehsan'] \n",
      "*******************\n",
      "22 \n",
      "*******************\n",
      "[1, 2, 'hello', 'ehsan', True] \n",
      "*******************\n",
      "[1, 2, 'Bye', 'hello', 'ehsan', True] \n",
      "*******************\n",
      "ehsan-mokhtari\n",
      "1 2 [3, 4, 5, 6, 'ehsan', 7] <class 'list'> 8 <class 'int'>\n"
     ]
    }
   ],
   "source": [
    "'''list'''\n",
    "# lists are mutable, means that you can change the values any time\n",
    "ls = [\"hello\",21,True,3.75, \"Roma\", 1] # lists are sequenceof any values\n",
    "print(type(ls))\n",
    "print(ls[1])  # positive indexing is from 0 to len(ls)-1 >>> 0, 1, 2, 3, 4, 5\n",
    "print(ls[-1]) # negetive indexing is from                   -6,-5,-4,-3,-2,-1\n",
    "print(ls[1:5]) # [1][2][3][4]\n",
    "print(ls[::2])\n",
    "del ls[1]; print(ls)\n",
    "# ls[:4] >>> 0 to 3\n",
    "# ls[2:] >> 2 to end\n",
    "# ls[1] = \"Bye\" \n",
    "# len(ls)\n",
    "print(\"Rom\" in ls) # print(\"nishiran\" not in ls)\n",
    "ls=[2,\"ehsan\"]; print(2*ls,\"\\n*******************\")\n",
    "# for i in ls:\n",
    "#     print(type(i))\n",
    "###########################################################\n",
    "# list inside a list\n",
    "ls = [\"ehsan\", [22,\"hello\"]]\n",
    "print(ls[1][0],\"\\n*******************\")\n",
    "###########################################################\n",
    "# list concatenation\n",
    "ls1 = [1,2,\"hello\"]; ls2=[\"ehsan\", True]; ls = ls1+ls2; print(ls,\"\\n*******************\")\n",
    "##########################################################\n",
    "# ls.pop()         >>> pop the last element of the list then remove it\n",
    "# ls.pop(index)  >>> pop the given index\n",
    "# ls.append(\"bye\") >>> adds the obj to end of the list\n",
    "# ls.index(obj)    >>> index of the object\n",
    "ls.insert(2, \"Bye\"); print(ls,\"\\n*******************\") # insert obj in given index and shift elements index +1\n",
    "# max(ls) >>> works on lists with int objs, returns the maximum number\n",
    "# min(ls)\n",
    "# ls.count(obj) >>> counts the number of the objs\n",
    "# ls.reverse()  >>> reverse the list\n",
    "# ls.remove(\"hello\")>>> removes the first simillar object from the list\n",
    "# ls.extend(ls1)  >>> adds the ls1 list to the end of the ls list\n",
    "# ls.clear() >>> clear the elements of the list\n",
    "# ls.sort()  >>> works only for number arrays\n",
    "###########################################################\n",
    "ls = [\"ehsan\", \"mokhtari\"]\n",
    "x = \"-\".join(ls); print(x) # works only for str lists\n",
    "##########################################################\n",
    "ls = [1,2,3,4,5,6,\"ehsan\",7,8]\n",
    "a,b,*c,d = ls\n",
    "print(a,b,c,type(c),d,type(d))"
   ]
  },
  {
   "cell_type": "code",
   "execution_count": 14,
   "id": "0807724e-fe8e-44a4-bee5-84ae4f749e8d",
   "metadata": {},
   "outputs": [
    {
     "name": "stdout",
     "output_type": "stream",
     "text": [
      "[1, 9, 25, 49, 81]\n"
     ]
    }
   ],
   "source": [
    "'''comperhension list'''\n",
    "ls = [i**2 for i in range(1,11) if i%2 != 0]; print(ls)"
   ]
  },
  {
   "cell_type": "code",
   "execution_count": 15,
   "id": "1d5e2c5e-f020-4d95-9e43-167e7943ecb0",
   "metadata": {},
   "outputs": [
    {
     "name": "stdout",
     "output_type": "stream",
     "text": [
      "('ehsan', 21, True, 21) <class 'tuple'>\n"
     ]
    }
   ],
   "source": [
    "'''tuple'''\n",
    "# A tuple is a collection which is ordered and unchangeable, read-only, and has more speed than lists\n",
    "tp = \"ehsan\", 21, True, 21; print(tp, type(tp))\n",
    "# tp = (\"ehsan\", 21, True, 21)\n",
    "# print(tp[1])"
   ]
  },
  {
   "cell_type": "code",
   "execution_count": 16,
   "id": "10682346-2fbb-4f9a-ae42-e244b6597b47",
   "metadata": {},
   "outputs": [
    {
     "name": "stdout",
     "output_type": "stream",
     "text": [
      "{'key1': 'value1', 'key2': 2, 3: True} <class 'dict'>\n",
      "dict_keys(['key1', 'key2', 3]) <class 'dict_keys'>\n",
      "dict_values(['value1', 2, True]) <class 'dict_values'>\n",
      "2\n",
      "{'key1': 5, 3: True, 'new_key': 'new_value'}\n",
      "dict_items([('key1', 5), (3, True), ('new_key', 'new_value')])\n",
      "key1 : 5\n",
      "3 : True\n",
      "new_key : new_value\n"
     ]
    }
   ],
   "source": [
    "'''dictionary'''\n",
    "# dictionaries are mutable data structures that allow you to store key-value pairs.\n",
    "# keys should be immutable objects like str, int, float, bool\n",
    "d_empty = dict() #creates empty dictionary\n",
    "d = {\"key1\":\"value1\", \"key2\":2, 3:True}\n",
    "print(d,type(d))\n",
    "print(d.keys(), type(d.keys()))\n",
    "print(d.values(), type(d.values()))\n",
    "print(d[\"key2\"])\n",
    "d[\"key1\"] = 5\n",
    "del d[\"key2\"]\n",
    "d[\"new_key\"] = \"new_value\" #adding new key:value to dic \n",
    "print(d)\n",
    "print(d.items())\n",
    "for (k,v) in d.items() :\n",
    "    print(k,\":\",v)\n",
    "# print(3 in d.keys()) >>> returen True or False\n",
    "# print(d.get(\"key\"))  >>> if there is no object with this key, returns None\n",
    "# print(d.get(\"key\", \"NOOOO\"))  >>> if there is no object with this key, returns \"NOOOO\""
   ]
  },
  {
   "cell_type": "code",
   "execution_count": 17,
   "id": "9ea6405d-ad39-45ba-87b5-270b6f347e7b",
   "metadata": {},
   "outputs": [
    {
     "name": "stdout",
     "output_type": "stream",
     "text": [
      "{'aysan', 'ehsan'}\n",
      "set[-2, -1, 0, 1, 2]\n"
     ]
    }
   ],
   "source": [
    "'''set'''\n",
    "# Sets are used to store multiple items in a single variable and is unordered, unchangeable and unindexed.\n",
    "s = set([\"ehsan\",\"aysan\",\"ehsan\"]); print(s)\n",
    "s1 = set([1,5,3,2,4]); s2 = set([2,3,6,7])\n",
    "# s1.add(7)    \n",
    "# s1.union(s2) >>> or s1|S2\n",
    "# s1.intersection(s2) >>> or s1&s2 \n",
    "# s1.remove(1) >>> removes the obj from the set\n",
    "# s1-s2 >>> removes the intersection of s1&s2 from s1\n",
    "# s1.pop()\n",
    "# s1^s2 >>> the objs that are not common between s1 and s2\n",
    "print(set[-2,-1,0,1,2])"
   ]
  },
  {
   "cell_type": "code",
   "execution_count": 18,
   "id": "7beeeec7-cba8-45fa-9d68-9cee6421dc5a",
   "metadata": {},
   "outputs": [
    {
     "name": "stdout",
     "output_type": "stream",
     "text": [
      "HELLO EHSAN THIS IS 2023\n",
      "8\n",
      "['h', 'llo ', 'hsan this is 2023']\n",
      "hallo ahsan this is 2023\n",
      "hello ehsan this is 2023\n",
      "True\n",
      "True\n",
      "ehsan@is@good\n",
      "ehsanmokhtari\n"
     ]
    }
   ],
   "source": [
    "'''string'''\n",
    "# list of chars which is immutable\n",
    "x = \"hello {0} this is {1}\".format(\"ehsan\",2023)\n",
    "print(x.upper())   # x.lower(), x.capitalize() \n",
    "print(x.find(\"s\")) # returns first index of the given obj\n",
    "print(x.split(\"e\")) # splits the text\n",
    "print(x.replace(\"e\",\"a\")); print(x)\n",
    "print(x.startswith(\"h\")) # x.endswith(\"3\")\n",
    "# len(x)\n",
    "print(\"ehsa\" in x)\n",
    "ls = [\"ehsan\", \"is\",\"good\"]; print(\"@\".join(ls))\n",
    "\n",
    "x1 = \"ehsan\"; x1 += \"mokhtari\"; print(x1)"
   ]
  },
  {
   "cell_type": "markdown",
   "id": "0f8420a2-37bd-4cb0-b737-fc5e4a1eddee",
   "metadata": {},
   "source": [
    "## <font color=red>4.Function and Module</font>"
   ]
  },
  {
   "cell_type": "code",
   "execution_count": 22,
   "id": "966d0b22-5337-4d4d-bb0e-b8e0c234d780",
   "metadata": {},
   "outputs": [
    {
     "name": "stdout",
     "output_type": "stream",
     "text": [
      "2\n",
      "hi\n"
     ]
    }
   ],
   "source": [
    "'''Function'''\n",
    "def func():\n",
    "    print(\"its a func\")\n",
    "# func()    \n",
    "#######################\n",
    "#    parameters\n",
    "def func(a, b):\n",
    "    return a+b\n",
    "#       arguments    \n",
    "result = func(2,4)    \n",
    "#######################\n",
    "# x should be int, and z has default value if its not given\n",
    "def func(x:int, y, z=8):\n",
    "    return x*y, y*z\n",
    "res1,res2 = func(x=2,y=3)\n",
    "######################\n",
    "# it returns int, just for developers to know they should handle to return in given format :/\n",
    "def func(x,y) -> int :\n",
    "    return int(x/y)\n",
    "res = func(5,2); print(res)\n",
    "#####################\n",
    "# you can work with function as an objects\n",
    "def func():\n",
    "    print(\"hi\")\n",
    "f = func\n",
    "f()\n",
    "####################"
   ]
  },
  {
   "cell_type": "code",
   "execution_count": 23,
   "id": "e94ed222-9eee-4b78-819a-264e8793e3ec",
   "metadata": {},
   "outputs": [
    {
     "name": "stdout",
     "output_type": "stream",
     "text": [
      "error\n",
      "********\n",
      "2\n",
      "3 \n",
      "**********\n",
      "10 \n",
      "*********\n",
      "20\n"
     ]
    }
   ],
   "source": [
    "'''global vs local variables'''\n",
    "# its local variable and can not be accessed outside of the function\n",
    "def func():\n",
    "    a = 1\n",
    "\n",
    "try:\n",
    "    a += 1\n",
    "except:\n",
    "    print(\"error\\n********\")\n",
    "#####################\n",
    "# its global variable and can be accessed anywhere\n",
    "def func():\n",
    "    global b\n",
    "    b = 2\n",
    "\n",
    "func() # we have to run the function to declare the variable\n",
    "print(b)\n",
    "b = b+1 # after function is runed, we can access and modify uts atributes\n",
    "print(b, \"\\n**********\")\n",
    "#####################\n",
    "c = 10\n",
    "def func():\n",
    "    c = 20  # attributes inside a function can not modify outside vars withoub using global\n",
    "func()\n",
    "print(c,\"\\n*********\")\n",
    "####################\n",
    "d = 10\n",
    "def func():\n",
    "    global c\n",
    "    c = 20  # attributes inside a function can not modify outside vars withoub using global\n",
    "func()\n",
    "print(c)"
   ]
  },
  {
   "cell_type": "code",
   "execution_count": 28,
   "id": "70ea80ae-35ae-4673-b65a-13ccadf08ab2",
   "metadata": {},
   "outputs": [
    {
     "name": "stdout",
     "output_type": "stream",
     "text": [
      "20\n",
      "10\n",
      "********\n",
      "20\n",
      "20\n"
     ]
    }
   ],
   "source": [
    "''' nested functions'''\n",
    "# functions inside functions\n",
    "def a():\n",
    "    x = 10 # local a()\n",
    "    def b():\n",
    "        x = 20 #local b()\n",
    "        print(x)\n",
    "    b()   \n",
    "    print(x)\n",
    "a(); print(\"********\")\n",
    "####################\n",
    "# for accessing upper function attributes we should use nonlocal\n",
    "def a():\n",
    "    x = 10 # local a()\n",
    "    def b():\n",
    "        nonlocal x\n",
    "        x = 20 # local a()\n",
    "        print(x)\n",
    "    b()   \n",
    "    print(x)\n",
    "a()"
   ]
  },
  {
   "cell_type": "code",
   "execution_count": 23,
   "id": "6084dc32-3fea-407b-a557-44bef2ff2ae9",
   "metadata": {},
   "outputs": [
    {
     "name": "stdout",
     "output_type": "stream",
     "text": [
      "5\n",
      "1.6487212707001282\n",
      "3.141592653589793\n"
     ]
    }
   ],
   "source": [
    "'''Modules'''\n",
    "# codes written by ther developers and we use them\n",
    "# we call this pre defined python modules : The Standard Library\n",
    "import random\n",
    "print(random.randint(1,6))\n",
    "\n",
    "from math import e,sqrt\n",
    "print(sqrt(e))\n",
    "\n",
    "from math import pi as p\n",
    "print(p)"
   ]
  },
  {
   "cell_type": "markdown",
   "id": "a152081c-1e1a-404d-a485-401302d049fd",
   "metadata": {},
   "source": [
    "## <font color=red>5.Exceptions and Files</font>"
   ]
  },
  {
   "cell_type": "code",
   "execution_count": 24,
   "id": "520ef24c-9746-4b86-888b-d9883f427823",
   "metadata": {},
   "outputs": [
    {
     "name": "stdout",
     "output_type": "stream",
     "text": [
      "in try, the codes will run until some exception is accured\n",
      "some error \n",
      "**************\n",
      "division by zero\n",
      "finally will run anyway \n",
      "***********\n",
      "try\n",
      "else runs if only try runs successfuly \n",
      "*************\n"
     ]
    }
   ],
   "source": [
    "'''exception'''\n",
    "try:\n",
    "    print(\"in try, the codes will run until some exception is accured\")\n",
    "    3/0\n",
    "except:\n",
    "    print(\"some error \\n**************\")\n",
    "#####################   \n",
    "try:\n",
    "    3/0   \n",
    "except Exception as e:\n",
    "    print(e)\n",
    "finally:\n",
    "    print(\"finally will run anyway \\n***********\")\n",
    "'''\n",
    "Exception >>> all exceptions\n",
    "ArithmeticError >>> including  OverflowError, ZeroDivisionError, FloatingPointError\n",
    "LookupError >>> including IndexError, KeyError\n",
    "ImportError\n",
    "NameError\n",
    "TypeError\n",
    "ValueError\n",
    "'''    \n",
    "#####################\n",
    "try:\n",
    "    print(\"try\")\n",
    "except:\n",
    "    print(\"except\")\n",
    "else:\n",
    "    print(\"else runs if only try runs successfuly \\n*************\")\n",
    "###################    "
   ]
  },
  {
   "cell_type": "code",
   "execution_count": 25,
   "id": "4affe7f5-41e5-4e20-aa93-35b19a51b3b4",
   "metadata": {},
   "outputs": [
    {
     "data": {
      "text/plain": [
       "'raise'"
      ]
     },
     "execution_count": 25,
     "metadata": {},
     "output_type": "execute_result"
    }
   ],
   "source": [
    "'''raise'''\n",
    "# a = 5\n",
    "# if a<10:\n",
    "#     raise ValueError(\"it is negative\")\n",
    "##########################\n",
    "# try:\n",
    "#     5/0\n",
    "# except:\n",
    "#     raise  >>> raise the error type\n",
    "##########################"
   ]
  },
  {
   "cell_type": "code",
   "execution_count": 26,
   "id": "4f4ca70a-e055-453e-8bc7-45ce8528b3d4",
   "metadata": {},
   "outputs": [
    {
     "data": {
      "text/plain": [
       "'assert'"
      ]
     },
     "execution_count": 26,
     "metadata": {},
     "output_type": "execute_result"
    }
   ],
   "source": [
    "'''assert'''\n",
    "#If the statement is true then it continue, but if the statement is False then it stops the execution of the program and throws an error.\n",
    "# a = 4; b = 0\n",
    "# print(\"The value of a / b is : \")\n",
    "# assert b != 0 \"Zero Division Error\"  >>> stops program and shows that message\n",
    "# print(a / b)"
   ]
  },
  {
   "cell_type": "code",
   "execution_count": 27,
   "id": "9606c517-32eb-4c60-bdd5-328855efef5b",
   "metadata": {},
   "outputs": [
    {
     "name": "stdout",
     "output_type": "stream",
     "text": [
      "hello world, my name is ehsan.\n",
      "I love NYC! \n",
      "***********\n",
      "hello world, my name is ehsan.\n",
      "I love NYC! \n",
      "***********\n",
      "['hello world, my name is ehsan.\\n', 'I love NYC!'] \n",
      "************\n",
      "Life is a game, we win some, we lose some. \n",
      "***********\n"
     ]
    }
   ],
   "source": [
    "'''files'''\n",
    "f = open(\"mytext.txt\", \"r\") # r >>> only read  w>>> open new file, if existed, cleans it for rewrite  a >>> append\n",
    "x = f.read() # f.read(10) >>> we can specify the number of chars to read\n",
    "print(x, \"\\n***********\")\n",
    "f.close()\n",
    "########################\n",
    "with open(\"mytext.txt\", \"r\") as f:\n",
    "    print(f.read(), \"\\n***********\") #here we dont need for f.close()\n",
    "######################\n",
    "f = open(\"mytext.txt\", \"r\")\n",
    "x = f.readlines() # every line inside a list element\n",
    "print(x,\"\\n************\")\n",
    "f.close()\n",
    "#####################\n",
    "f = open(\"mytext1.txt\", \"w\")\n",
    "f.write(\"Life is a game, we win some, we lose some.\")\n",
    "f.close()\n",
    "f = open(\"mytext1.txt\", \"r\"); x = f.read(); print(x, \"\\n***********\"); f.close()\n",
    "#######################\n",
    "# the best way for working with files :\n",
    "# try:\n",
    "#   work with file\n",
    "# finally:\n",
    "#    f.close()\n",
    "#######################"
   ]
  },
  {
   "cell_type": "markdown",
   "id": "18bbb4f6-e3da-47b6-a167-6e62840d8391",
   "metadata": {},
   "source": [
    "## <font color=red>6.Advance Functional Programming</font>\n",
    "### <font color=green>Pure Function</font> : A function that doesn't alter any variable outside of the function.\n",
    "### <font color=green>Impure Function</font> : A function that alters any variable outside of the function."
   ]
  },
  {
   "cell_type": "code",
   "execution_count": 36,
   "id": "2ae95fbc-fd51-4053-8308-6544799250f9",
   "metadata": {},
   "outputs": [
    {
     "name": "stdout",
     "output_type": "stream",
     "text": [
      "25\n"
     ]
    }
   ],
   "source": [
    "'''lambda'''\n",
    "# lamda is an anonymous function, means that the function is without a name.\n",
    "x = lambda i : i**2\n",
    "print(x(5))"
   ]
  },
  {
   "cell_type": "code",
   "execution_count": 29,
   "id": "b2f3210c-81c2-44db-a499-0090b29ddbe4",
   "metadata": {},
   "outputs": [
    {
     "name": "stdout",
     "output_type": "stream",
     "text": [
      "[(1, 'a'), (2, 'b'), (3, 'c')]\n",
      "[1, 2, 3] ['a', 'b', 'c']\n"
     ]
    }
   ],
   "source": [
    "'''zip'''\n",
    "# group the i th element of iterators l1,l2,l3,... together\n",
    "a = [1,2,3]; b=[\"a\",\"b\",\"c\"]\n",
    "zipped = zip(a,b)\n",
    "zipped = list(zipped)\n",
    "print(zipped)\n",
    "\n",
    "un1, un2 = zip(*zipped)\n",
    "un1 = list(un1); un2=list(un2)\n",
    "print(un1,un2)"
   ]
  },
  {
   "cell_type": "code",
   "execution_count": 30,
   "id": "e32f64af-d098-4f66-b4b6-4e8967515bbf",
   "metadata": {},
   "outputs": [
    {
     "name": "stdout",
     "output_type": "stream",
     "text": [
      "E\n",
      "h\n",
      "s a n\n"
     ]
    }
   ],
   "source": [
    "'''iterable'''\n",
    "# lists, tuples, sets, dics, string are iterable objs in python\n",
    "x = \"Ehsan\"\n",
    "i = iter(x)\n",
    "print(next(i))\n",
    "print(next(i))\n",
    "print(*i)"
   ]
  },
  {
   "cell_type": "code",
   "execution_count": 31,
   "id": "e898ff71-13dc-4ca3-bbe5-91481190f7a5",
   "metadata": {},
   "outputs": [
    {
     "name": "stdout",
     "output_type": "stream",
     "text": [
      "[(0, 'hello'), (1, 'world'), (2, 'NYC')]\n",
      "[(2, 'E'), (3, 'h'), (4, 's'), (5, 'a'), (6, 'n')]\n"
     ]
    }
   ],
   "source": [
    "'''enumerate'''\n",
    "# assigning counter to iterable objs\n",
    "l1 = [\"hello\", \"world\", \"NYC\"]\n",
    "s1 = \"Ehsan\"\n",
    "\n",
    "e1 = list(enumerate(l1)) \n",
    "print (e1)\n",
    "\n",
    "# changing start index to 2 from 0\n",
    "print (list(enumerate(s1, 2)))"
   ]
  },
  {
   "cell_type": "code",
   "execution_count": 34,
   "id": "dc875d4b-db5b-4164-a230-5235658528a5",
   "metadata": {},
   "outputs": [
    {
     "name": "stdout",
     "output_type": "stream",
     "text": [
      "[1, 4, 9, 16, 25]\n",
      "[1, 4, 9, 16, 25]\n"
     ]
    }
   ],
   "source": [
    "'''map'''\n",
    "# a function that works as an iterator to return a result after applying a function to every item of an iterable\n",
    "def power_2(x):\n",
    "    return x**2\n",
    "\n",
    "ls = [1,2,3,4,5]\n",
    "result = list(map(power_2,ls))\n",
    "print(result)\n",
    "###############################\n",
    "result = list(map(lambda i: i**2, ls))\n",
    "print(result)"
   ]
  },
  {
   "cell_type": "code",
   "execution_count": 35,
   "id": "f6c3b859-fcb3-44ab-81ff-af6806d702ea",
   "metadata": {},
   "outputs": [
    {
     "name": "stdout",
     "output_type": "stream",
     "text": [
      "[2, 4, 6, 8]\n"
     ]
    }
   ],
   "source": [
    "'''filter'''\n",
    "# a built-in function that allows you to process an iterable and extract those items that satisfy a given condition.\n",
    "ls = [1,2,3,4,5,6,7,8,9]\n",
    "result = list(filter(lambda i : i%2==0, ls))\n",
    "print(result)"
   ]
  },
  {
   "cell_type": "code",
   "execution_count": 39,
   "id": "7f7a1b26-358a-4108-afe0-5ea48035312d",
   "metadata": {},
   "outputs": [
    {
     "name": "stdout",
     "output_type": "stream",
     "text": [
      "3\n",
      "2\n",
      "1\n",
      "[3, 2, 1]\n"
     ]
    }
   ],
   "source": [
    "'''generator'''\n",
    "# allows you to declare a function that behaves like an iterator, providing a faster and easier way to create iterators.\n",
    "# have much speed and doen not occupy much memory. mostly done with for and while loops\n",
    "def countdown(i):\n",
    "    while i>0:\n",
    "        yield i\n",
    "        i = i-1\n",
    "for i in countdown(3):\n",
    "    print(i)\n",
    "################\n",
    "ls = list(countdown(3))\n",
    "print(ls)"
   ]
  },
  {
   "cell_type": "code",
   "execution_count": 40,
   "id": "beeba40e-2cee-488b-bfdc-7fce9976ee89",
   "metadata": {},
   "outputs": [
    {
     "name": "stdout",
     "output_type": "stream",
     "text": [
      "120\n"
     ]
    }
   ],
   "source": [
    "'''recursion'''\n",
    "# a defined function can call itself\n",
    "def factoriel(n):\n",
    "    #we call it the base case, which breaks the infinite condition\n",
    "    if n ==1 :\n",
    "        return 1\n",
    "    else :\n",
    "        return n*factoriel(n-1)\n",
    "print(factoriel(5))        "
   ]
  },
  {
   "cell_type": "code",
   "execution_count": 43,
   "id": "f70e143a-85b0-4858-a08a-3aeca3c75bda",
   "metadata": {},
   "outputs": [
    {
     "name": "stdout",
     "output_type": "stream",
     "text": [
      "********\n",
      "Hello\n",
      "********\n",
      "********\n",
      "second Hello\n",
      "********\n"
     ]
    }
   ],
   "source": [
    "'''decorator'''\n",
    "# a design pattern that allows a user to add new functionalityto an existing object without modifying its structure.\n",
    "\n",
    "# func is the function that is going to be modified\n",
    "def decor(func):\n",
    "    #this is the modifying function\n",
    "    def wrap():\n",
    "        print(\"********\")\n",
    "        func()\n",
    "        print(\"********\")\n",
    "    # and this is the modifeid function    \n",
    "    return wrap\n",
    "\n",
    "def hello():\n",
    "    print(\"Hello\")\n",
    "    \n",
    "x = decor(hello) #creating an instance of decorator function\n",
    "x() # run the instance\n",
    "##########################################\n",
    "# this is the second way that we can do the decorators\n",
    "def decor(func):\n",
    "    def wrap():\n",
    "        print(\"********\")\n",
    "        func()\n",
    "        print(\"********\")\n",
    "    return wrap\n",
    "\n",
    "@decor\n",
    "def hello():\n",
    "    print(\"second Hello\")\n",
    "\n",
    "hello()"
   ]
  },
  {
   "cell_type": "code",
   "execution_count": 46,
   "id": "fedf511d-5bdd-4c19-a1fa-19a9a356a85d",
   "metadata": {},
   "outputs": [
    {
     "name": "stdout",
     "output_type": "stream",
     "text": [
      "1 <class 'int'>\n",
      "(2, 3, 4, 5) <class 'tuple'>\n"
     ]
    }
   ],
   "source": [
    "''' *args '''\n",
    "def func(a, *args):\n",
    "    print(a, type(a))\n",
    "    print(args, type(args))\n",
    "    \n",
    "func(1,2,3,4,5)    "
   ]
  },
  {
   "cell_type": "code",
   "execution_count": 47,
   "id": "8483e29c-1f47-485b-bf3f-1ffa2fb1a7d1",
   "metadata": {},
   "outputs": [
    {
     "name": "stdout",
     "output_type": "stream",
     "text": [
      "1\n",
      "2\n",
      "(3, 4, 5) <class 'tuple'>\n",
      "{'x': 6, 'y': 7} <class 'dict'>\n"
     ]
    }
   ],
   "source": [
    "''' **kwargs '''\n",
    "def func(a, b=7, *args, **kwargs):\n",
    "    print(a)\n",
    "    print(b)\n",
    "    print(args, type(args))\n",
    "    print(kwargs, type(kwargs))\n",
    "\n",
    "func(1,2,3,4,5,x=6,y=7)"
   ]
  },
  {
   "cell_type": "markdown",
   "id": "4eb28d75-6e9b-47bd-8d17-339d49a64a43",
   "metadata": {},
   "source": [
    "## <font color=red>7.Object Oriented Programming (OOP)</font>"
   ]
  },
  {
   "cell_type": "code",
   "execution_count": 54,
   "id": "eb2c60d3-7f48-4944-8984-28ed648ab6df",
   "metadata": {},
   "outputs": [
    {
     "name": "stdout",
     "output_type": "stream",
     "text": [
      "class attribute\n",
      "dog brown\n",
      "do sth\n",
      "class attribute\n"
     ]
    }
   ],
   "source": [
    "'''basics'''\n",
    "# here our objects are instances from classes\n",
    "# __init__ is the most important method of the class and is \"class constructure\" and is called when an class instance is created\n",
    "# in every class methodsm first arguman should be defined as \"self\"\n",
    "class Animal:\n",
    "\n",
    "    # class attribute\n",
    "    x = \"class attribute\"\n",
    "\n",
    "    # class constructure\n",
    "    def __init__(self, name, color):\n",
    "        self.name = name\n",
    "        self.color=color\n",
    "\n",
    "    # some class method\n",
    "    def some_method(self):\n",
    "        print(\"do sth\")\n",
    "\n",
    "animal1 = Animal(\"dog\", \"brown\")\n",
    "print(animal1.x)\n",
    "print(animal1.name, animal1.color)\n",
    "animal1.some_method()\n",
    "########################################\n",
    "# we can access class atributes without instances too!\n",
    "print(Animal.x)"
   ]
  },
  {
   "cell_type": "code",
   "execution_count": 9,
   "id": "345354bd-941f-4ed4-af8e-4c5affb26047",
   "metadata": {},
   "outputs": [
    {
     "name": "stdout",
     "output_type": "stream",
     "text": [
      "golden retriver blonde\n",
      "hop hop\n",
      "\n",
      "***************\n",
      "c\n",
      "b\n",
      "a\n",
      "\n",
      "***************\n",
      "b\n",
      "a\n"
     ]
    }
   ],
   "source": [
    "'''inheritance'''\n",
    "# super class\n",
    "class Animal:\n",
    "\n",
    "    def __init__(self, name, color):\n",
    "        self.name = name\n",
    "        self.color = color\n",
    "\n",
    "    def bark(self):\n",
    "        print(\"animal bark\")\n",
    "\n",
    "# sub class\n",
    "class Dog(Animal):\n",
    "\n",
    "    def bark(self):\n",
    "        print(\"hop hop\")\n",
    "\n",
    "dog1 = Dog(\"golden retriver\", \"blonde\")\n",
    "print(dog1.name, dog1.color)\n",
    "dog1.bark()\n",
    "print(\"\\n***************\")\n",
    "#######################################\n",
    "# multy inheritance\n",
    "class A:\n",
    "    def a(self):\n",
    "        print(\"a\")\n",
    "class B(A):\n",
    "    def b(self):\n",
    "        print(\"b\")\n",
    "class C(B):\n",
    "    def c(self):\n",
    "        print(\"c\")\n",
    "\n",
    "obj = C()\n",
    "obj.c()\n",
    "obj.b()\n",
    "obj.a()\n",
    "print(\"\\n***************\")\n",
    "######################################\n",
    "class A:\n",
    "    def a(self):\n",
    "        print(\"a\")\n",
    "class B(A):\n",
    "    def b(self):\n",
    "        print(\"b\")\n",
    "        super().a() #super() refers to superclass\n",
    "obj = B()\n",
    "obj.b()"
   ]
  },
  {
   "cell_type": "code",
   "execution_count": 10,
   "id": "e9420a34-0f2d-4617-8448-0e453d43b132",
   "metadata": {},
   "outputs": [
    {
     "data": {
      "text/plain": [
       "'magic methods'"
      ]
     },
     "execution_count": 10,
     "metadata": {},
     "output_type": "execute_result"
    }
   ],
   "source": [
    "'''magic methods'''"
   ]
  },
  {
   "cell_type": "code",
   "execution_count": 11,
   "id": "141e1c3f-e474-452c-bef2-eea4c6aa056d",
   "metadata": {},
   "outputs": [],
   "source": [
    "'''Object LifeCycle'''\n",
    "# objects have 3 LifeCycles : Creation, Manipulation, Destruction\n",
    "class A:\n",
    "    def a(self):\n",
    "        print(\"a\")\n",
    "\n",
    "# 1.Creation\n",
    "obj = A()\n",
    "\n",
    "# 2. manipolation >>> when its working and we use it\n",
    "\n",
    "# 3. destruction >>> python has garbage collection and destrioys objects when they are not using anymore but we can do it manualy\n",
    "del obj"
   ]
  },
  {
   "cell_type": "code",
   "execution_count": 29,
   "id": "48aa87ef-6306-490e-b947-d2ac015abe9c",
   "metadata": {},
   "outputs": [
    {
     "name": "stdout",
     "output_type": "stream",
     "text": [
      "error\n",
      "5\n",
      "5\n"
     ]
    }
   ],
   "source": [
    "'''Data Hiding'''\n",
    "# we do not have encapsulation in python but we can manage attributes or methods how to be accessed\n",
    "\n",
    "# 1. weak private : we can use _ befoew the names of attribute or methods, you can access them from anywhere,\n",
    "# its just a symbol to others suppose its private and dont alter them :/\n",
    "\n",
    "# 2. strong private : using __ befor attributes or methods. \n",
    "class Sclass:\n",
    "    __x = 5\n",
    "\n",
    "    def func(self):\n",
    "        return self.__x\n",
    "\n",
    "s = Sclass()\n",
    "\n",
    "try:\n",
    "    print(s.__x)\n",
    "except:\n",
    "    print(\"error\")\n",
    "\n",
    "print(s._Sclass__x) # accessing private attribute using obj._classname__atributename\n",
    "\n",
    "a = s.func() #accessing to private attribute using public method\n",
    "print(a)"
   ]
  },
  {
   "cell_type": "code",
   "execution_count": 39,
   "id": "c5ab76fa-02f0-4e39-95a0-553eb450e9ce",
   "metadata": {},
   "outputs": [
    {
     "name": "stdout",
     "output_type": "stream",
     "text": [
      "25\n"
     ]
    }
   ],
   "source": [
    "'''class method'''\n",
    "# a method that is bound to the class and not the object of the class.\n",
    "class Rectabgle:\n",
    "\n",
    "    def __init__(self, length, width):\n",
    "        self.length = length\n",
    "        self.width = width\n",
    "\n",
    "    def caculate_area(self):\n",
    "        return self.length * self.width\n",
    "\n",
    "    @classmethod\n",
    "    def square(cls, length):\n",
    "        return cls(length, length)\n",
    "\n",
    "s = Rectabgle.square(5)\n",
    "print(s.caculate_area())"
   ]
  },
  {
   "cell_type": "code",
   "execution_count": 42,
   "id": "7d44d0d1-937d-45a8-9a98-96783065f66c",
   "metadata": {},
   "outputs": [
    {
     "name": "stdout",
     "output_type": "stream",
     "text": [
      "yey\n"
     ]
    }
   ],
   "source": [
    "'''static method'''\n",
    "# accessing methods inside a class without instanciating the class\n",
    "class A():\n",
    "\n",
    "    @staticmethod\n",
    "    def func(): # we dont use self in static methods\n",
    "        print(\"yey\")\n",
    "\n",
    "A.func()"
   ]
  },
  {
   "cell_type": "code",
   "execution_count": 43,
   "id": "50049b68-6caf-4eb4-80d4-6ad5f97d8bfb",
   "metadata": {},
   "outputs": [
    {
     "name": "stdout",
     "output_type": "stream",
     "text": [
      "5\n",
      "78.5\n",
      "7\n",
      "153.86\n"
     ]
    }
   ],
   "source": [
    "'''property'''\n",
    "# a class property is an attribute of a class that can be accessed like an instance variable \n",
    "# but is implemented using methods. Class properties allow you to define getter, setter, and\n",
    "# deleter methods for attributes, providing more control and encapsulation than directly accessing instance variables.\n",
    "\n",
    "class Circle:\n",
    "    \n",
    "    def __init__(self, r):\n",
    "        self._r = r  # weak private\n",
    "\n",
    "    @property\n",
    "    def r(self):\n",
    "        return self._r\n",
    "\n",
    "    @r.setter\n",
    "    def r(self, new_r):\n",
    "        if new_r >= 0:\n",
    "            self._r = new_r\n",
    "\n",
    "    def calculate_area(self):\n",
    "        return 3.14 * self._r * self._r\n",
    "\n",
    "\n",
    "c = Circle(5)\n",
    "\n",
    "print(c.r)  # Access the r using the property getter\n",
    "print(c.calculate_area())\n",
    "\n",
    "c.r = 7 # Modify the radius using the property setter\n",
    "print(c.r)  \n",
    "print(c.calculate_area())"
   ]
  },
  {
   "cell_type": "code",
   "execution_count": null,
   "id": "446eec1c-9569-4093-8691-a16e318c4399",
   "metadata": {},
   "outputs": [],
   "source": []
  }
 ],
 "metadata": {
  "kernelspec": {
   "display_name": "Python 3 (ipykernel)",
   "language": "python",
   "name": "python3"
  },
  "language_info": {
   "codemirror_mode": {
    "name": "ipython",
    "version": 3
   },
   "file_extension": ".py",
   "mimetype": "text/x-python",
   "name": "python",
   "nbconvert_exporter": "python",
   "pygments_lexer": "ipython3",
   "version": "3.11.4"
  }
 },
 "nbformat": 4,
 "nbformat_minor": 5
}

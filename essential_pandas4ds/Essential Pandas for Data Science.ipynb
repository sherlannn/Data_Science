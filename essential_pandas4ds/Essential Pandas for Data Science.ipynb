{
 "cells": [
  {
   "cell_type": "markdown",
   "id": "795ca540",
   "metadata": {},
   "source": [
    "# <font color=red>Pandas</font>\n",
    "## A practical Pandas tutorial for Data Science by Ehsan Mokhtari\n",
    "## I used 'Python Data Science Handbook by Jake VanderPlas' as a reference for this tutoria"
   ]
  },
  {
   "cell_type": "markdown",
   "id": "fdafe9a7",
   "metadata": {},
   "source": [
    "### The word pandas is an acronym which is derived from <font color=green>Python and data analysis</font> and <font color=green>panel data</font>. Pandas is a newer package built on top of NumPy, and provides an efficient implementation of a DataFrame. DataFrames are essentially multidimensional arrays with attached row and column labels, and often with heterogeneous types and/or missing data."
   ]
  },
  {
   "cell_type": "markdown",
   "id": "fc031642",
   "metadata": {},
   "source": [
    "### you can simply install pandas using <font color=green>pip install pandas</font> or <font color=green>pip install numpy --upgrade</font> for upgrading it. Remember that numpy is required for pandas so you need to install numpy anyway."
   ]
  },
  {
   "cell_type": "code",
   "execution_count": 1,
   "id": "e98cf18d",
   "metadata": {},
   "outputs": [
    {
     "name": "stdout",
     "output_type": "stream",
     "text": [
      "2.0.3\n"
     ]
    }
   ],
   "source": [
    "#simply we can import pandas and check its version\n",
    "import pandas\n",
    "print(pandas.__version__)\n",
    "\n",
    "#Just as we generally import NumPy under the alias np, we will import Pandas under the alias pd:\n",
    "import numpy as np\n",
    "import pandas as pd"
   ]
  },
  {
   "cell_type": "markdown",
   "id": "bd940fee",
   "metadata": {},
   "source": [
    "## <font color = red> Introducing Pandas Objects </font>"
   ]
  },
  {
   "cell_type": "markdown",
   "id": "9cf631a1",
   "metadata": {},
   "source": [
    "### At the very basic level, Pandas objects can be thought of as enhanced versions of NumPy structured arrays in which the rows and columns are identified with labels rather than simple integer indices. we have three fundamental Pandas data structures: <font color=green>the Series, DataFrame, and Index</font>.\n",
    "### A <font color=green>Pandas Series</font> is a one-dimensional array of indexed data. It can be created from a list or array as follows:"
   ]
  },
  {
   "cell_type": "code",
   "execution_count": 2,
   "id": "f03e778c",
   "metadata": {},
   "outputs": [
    {
     "name": "stdout",
     "output_type": "stream",
     "text": [
      "0    0.25\n",
      "1    0.50\n",
      "2    0.75\n",
      "3    1.00\n",
      "dtype: float64 \n",
      "********\n",
      "[0.25 0.5  0.75 1.  ] \n",
      "********\n",
      "RangeIndex(start=0, stop=4, step=1) \n",
      "********\n",
      "0.5 \n",
      "********\n",
      "1    0.50\n",
      "2    0.75\n",
      "dtype: float64\n"
     ]
    }
   ],
   "source": [
    "s = pd.Series([0.25, 0.5, 0.75, 1.0])\n",
    "print(s,\"\\n********\")\n",
    "print(s.values,\"\\n********\")\n",
    "print(s.index,\"\\n********\")\n",
    "print(s[1],'\\n********')\n",
    "print(s[1:3])\n",
    "# print(s[1:3].unique()) #returns unique values (suppose its a set but its a list)"
   ]
  },
  {
   "cell_type": "code",
   "execution_count": 3,
   "id": "948f26fb",
   "metadata": {},
   "outputs": [
    {
     "name": "stdout",
     "output_type": "stream",
     "text": [
      "0.5    0.5 \n",
      "********\n",
      "0.25 \n",
      "********\n",
      "a    33\n",
      "b    37\n",
      "dtype: int64 \n",
      "********\n",
      "100    5\n",
      "200    5\n",
      "300    5\n",
      "dtype: int64\n"
     ]
    }
   ],
   "source": [
    "''' while the NumPy array has an implicitly defined integer index used to access the values,\n",
    "    the Pandas Series has an explicitly defined index associated with the values. '''\n",
    "s = pd.Series([0.25, 0.5, 0.75, 1.0], index=['a', 'b', 'c', 'd'])\n",
    "#if we do not define indices, it will be from 0 to n-1 or implicitly\n",
    "print(s[1],\"  \", s['b'],'\\n********')   # implicitly vs explicitly defined index \n",
    "\n",
    "# We can even use noncontiguous or nonsequential indices:\n",
    "s = pd.Series([0.25, 0.5, 0.75, 1.0], index=[1, 5, 3, 7])\n",
    "print(s[1],'\\n********')\n",
    "\n",
    "# you can think of a Pandas Series a bit like a specialization of a Python dictionary.\n",
    "s = pd.Series({'a':33, 'b':37, 'c':42})\n",
    "print(s['a':'b'],'\\n********')\n",
    "\n",
    "print(pd.Series(5, index=[100, 200, 300]))"
   ]
  },
  {
   "cell_type": "markdown",
   "id": "439db99a",
   "metadata": {},
   "source": [
    "### A <font color=green>DataFrame</font> is an analog of a two-dimensional array with both flexible row indices and flexible column names. you can think of a DataFrame as a sequence of aligned Series objects"
   ]
  },
  {
   "cell_type": "code",
   "execution_count": 4,
   "id": "cc705522",
   "metadata": {},
   "outputs": [
    {
     "name": "stdout",
     "output_type": "stream",
     "text": [
      "[['egg' 'chicken' 'rice']\n",
      " ['42' '130' '200']\n",
      " ['bad' 'good' 'good']\n",
      " ['yes' 'yes' 'no']] \n",
      "********\n",
      "[['egg' '42' 'bad' 'yes']\n",
      " ['chicken' '130' 'good' 'yes']\n",
      " ['rice' '200' 'good' 'no']] \n",
      "********\n",
      "      food  cal taste healthy\n",
      "a      egg   42   bad     yes\n",
      "b  chicken  130  good     yes\n",
      "c     rice  200  good      no \n",
      "********\n",
      "Index(['a', 'b', 'c'], dtype='object')\n",
      "Index(['food', 'cal', 'taste', 'healthy'], dtype='object') \n",
      "********\n",
      "a        egg\n",
      "b    chicken\n",
      "c       rice\n",
      "Name: food, dtype: object \n",
      "********\n",
      "egg    egg \n",
      "********\n",
      "      food  cal taste healthy  time\n",
      "a      egg   42   bad     yes    13\n",
      "b  chicken  130  good     yes    60\n",
      "c     rice  200  good      no    20\n"
     ]
    }
   ],
   "source": [
    "food = [\"egg\", \"chicken\", \"rice\"]\n",
    "calories = [42, 130, 200] \n",
    "df = pd.DataFrame({\"food\" : food , \"cal\" : calories})                     # using lists\n",
    "#########################################################################################\n",
    "data = {\"food\": [\"egg\", \"chicken\", \"rice\"], \"cal\": [42, 130, 200]} \n",
    "df = pd.DataFrame(data)                                                   # using 2-d dictionary\n",
    "#########################################################################################\n",
    "data = [[\"egg\", \"chicken\", \"rice\"],[42, 130, 200],['bad','good','good'],['yes','yes','no']]   \n",
    "print(np.array(data),'\\n********') # normally it is 2d list with 4 rows and 3 columns\n",
    "data = np.transpose(np.array(data))   #now we can reshape it to 4 rows and 3 columns\n",
    "print(data, '\\n********')\n",
    "df = pd.DataFrame(data , columns=['food', 'cal','taste','healthy'], index=['a','b','c'])   # using 2-d lists\n",
    "#########################################################################################\n",
    "print(df, '\\n********')\n",
    "print(df.index)\n",
    "print(df.columns , '\\n********')\n",
    "print(df['food'],'\\n********' )  # print(df.food)\n",
    "print(df['food']['a'], \"  \",df['food'][0], '\\n********')\n",
    "########################################################################################\n",
    "# df.loc['name']                           only shows this col\n",
    "# df['cal' : 'healthy']                    shows cals to healthy cols\n",
    "# df.loc[['cals','healthy']]               shows only these 2 cols\n",
    "# df.loc[[0], ['name']]                    select one element\n",
    "# df.loc[ :2 , ['name','cals']]            2 rows and only the mentiones cols  \n",
    "# df.loc[[0, 1], [\"name\", \"ccals\"]]        selected rows and cols\n",
    "# df.loc[ :'b' , 'taste': ]\n",
    "# df[ df.cal > 100 & df.taste == 'good']   \n",
    "\n",
    "# df.iloc[:2,:2] first 2 rows and columns\n",
    "# df.T    rotate the array\n",
    "#######################################################################################\n",
    "df['time'] = [13,60,20]  #adding new column to the df\n",
    "print(df) "
   ]
  },
  {
   "cell_type": "code",
   "execution_count": 5,
   "id": "0f87966e",
   "metadata": {},
   "outputs": [
    {
     "data": {
      "text/plain": [
       "'working with Matlab files'"
      ]
     },
     "execution_count": 5,
     "metadata": {},
     "output_type": "execute_result"
    }
   ],
   "source": [
    "'''working with csv and excel files'''\n",
    "# df = pd.read_csv(\"people.csv\")\n",
    "# df = pd.read_csv('people.csv', usecols=[\"Name\", \"Email\"], nrows=3) imports only those cols and only 3 rows\n",
    "# df = pd.read_csv(\"people.csv\", index_col=['id']) this column will be set as index column\n",
    "# df.head(5), df.tail(5), df.info(), df.shape , df.size , df.describe(), df.dtypes , \n",
    "# df.rename(columns={'old_name':'new_name'})  #change the column name\n",
    "# df.drop(columns=['name'])                   #remove the column\n",
    "# df.to_csv('people.csv')\n",
    "\n",
    "# pd.read_excel('file.xlsx', index_col=0) ,na_values=['hello','bye'] converts these str to NaN\n",
    "# ,dtype={'col_name': str, 'col_name': float} col dtype can be explicitly specified\n",
    "# pd.to_excel('file.xlsx', sheet_name='Sheet1') sheet_name=None reads all the sheets in file\n",
    "# pd.set_option('display.max_colwidth', None) this allows to show the full size data\n",
    "\n",
    "'''working with files in python'''\n",
    "# file = open(filename, mode='r') # 'r' read, 'w' write, \"a\" Append, \n",
    "# text = file.read()\n",
    "# file.close()\n",
    "\n",
    "'''working with Pickled files'''\n",
    "# File type native to Python, Pickled les are serialized , Serialize = convert object to bytestream\n",
    "#import pickle  #file = open(filename.pkl, mode='rb')  #data = pickle.load(file)\n",
    "\n",
    "'''working with SAS and Stata files'''\n",
    "# SAS: Statistical Analysis System, SAS: business analytics and biostatistics\n",
    "# Stata: “Statistics” + “data” ,Stata: academic social sciences research\n",
    "# data = pd.read_stata('urbanpop.dta')\n",
    "\n",
    "'''working with HDF5 files'''\n",
    "# Hierarchical Data Format version 5 ,Standard for storing large quantities of numerical data\n",
    "# import h5py  #data = h5py.File(filename,'r')  #print(data.keys())  #print(data['key']) \n",
    "\n",
    "'''working with Matlab files''' #“Matrix Laboratory”\n",
    "#import scipy.io  #data = scipy.io.loadmat('file.mat')  #print(data.keys())\n"
   ]
  },
  {
   "cell_type": "code",
   "execution_count": 6,
   "id": "6d472f0c",
   "metadata": {},
   "outputs": [
    {
     "data": {
      "text/plain": [
       "'working with The Json package'"
      ]
     },
     "execution_count": 6,
     "metadata": {},
     "output_type": "execute_result"
    }
   ],
   "source": [
    "'''working with The urllib package''' #pip install urllib  #Provides interface for fetching data across the web\n",
    "# from urllib.request import urlretrieve\n",
    "# urlretrieve('url', 'winequality-white.csv') #download the file and save the file\n",
    "\n",
    "# from urllib.request import urlopen, Request\n",
    "# request = Request('url')          #Universal Resource Locator, References to web resources\n",
    "# response = urlopen(request)\n",
    "# html = response.read()            #HyperText Markup Language\n",
    "# response.close()\n",
    "\n",
    "'''working with The request package''' #pip install requests\n",
    "# import requests  \n",
    "# r = requests.get('url')\n",
    "# text = r.text\n",
    "\n",
    "'''working with The BeautifulSoup package''' #Parse and extract structured data from HTML #pip install bs4\n",
    "#import requests  #from bs4 import BeautifulSoup\n",
    "# r = requests.get('url') to get data from a URL\n",
    "# html_doc = r.text  #or  #json_doc = response.json()\n",
    "# soup = BeautifulSoup(html_doc)\n",
    "# print(soup.prettify())\n",
    "# soup.? produces all the options\n",
    "\n",
    "'''working with The Json package''' #JavaScript Object Notation\n",
    "#import json  #file = open('file,json', mode='r')  #json_data = json.load(file)  #print(json_data.items())\n",
    "#or\n",
    "# df = pd.read_json(\"file.json\", orient=\"split\")"
   ]
  },
  {
   "cell_type": "markdown",
   "id": "41434bf8",
   "metadata": {},
   "source": [
    "### The <font color=green>Index object</font> is an interesting structure in itself, and it can be thought of either as an immutable array or as an ordered set. "
   ]
  },
  {
   "cell_type": "code",
   "execution_count": 7,
   "id": "406ffe8c",
   "metadata": {},
   "outputs": [
    {
     "name": "stdout",
     "output_type": "stream",
     "text": [
      "Index([2, 3, 5, 7, 11], dtype='int64')\n",
      "3\n",
      "Index([2, 5, 11], dtype='int64')\n",
      "5 (5,) 1 int64\n"
     ]
    }
   ],
   "source": [
    "ind = pd.Index([2, 3, 5, 7, 11])\n",
    "print(ind)\n",
    "print(ind[1])\n",
    "print(ind[::2]) # from 0 to n with steps of 2\n",
    "print(ind.size, ind.shape, ind.ndim, ind.dtype)\n",
    "# ind[1] = 0  this throws an error because its immutable"
   ]
  },
  {
   "cell_type": "markdown",
   "id": "00ee3d38",
   "metadata": {},
   "source": [
    "## <font color = red> Data Indexing and Selection </font>"
   ]
  },
  {
   "cell_type": "code",
   "execution_count": 8,
   "id": "18187c0a",
   "metadata": {},
   "outputs": [
    {
     "name": "stdout",
     "output_type": "stream",
     "text": [
      "0.5 True Index(['a', 'b', 'c', 'd'], dtype='object')\n",
      "[('a', 0.25), ('b', 0.5), ('c', 0.75), ('d', 1.0)] \n",
      "********\n",
      "b    0.60\n",
      "c    0.75\n",
      "d    1.00\n",
      "e    1.25\n",
      "dtype: float64 \n",
      "********\n",
      "a    0.25\n",
      "c    0.75\n",
      "dtype: float64 \n",
      "********\n",
      "b    0.60\n",
      "c    0.75\n",
      "dtype: float64\n"
     ]
    }
   ],
   "source": [
    "s = pd.Series([0.25, 0.5, 0.75, 1.0], index=['a', 'b', 'c', 'd'])\n",
    "print(s['b'], 'a' in s , s.keys())\n",
    "print(list(s.items()),'\\n********')\n",
    "\n",
    "s['b'] = 0.6  # assigning new value\n",
    "s['e'] = 1.25 #new elemet with new index\n",
    "print(s['b':'e'],'\\n********') # print(s[1:5])\n",
    "print(s[['a','c']], '\\n********')            # selection\n",
    "print(s[(s> .4) & (s <1)])"
   ]
  },
  {
   "cell_type": "code",
   "execution_count": 9,
   "id": "a5475a8f",
   "metadata": {},
   "outputs": [
    {
     "name": "stdout",
     "output_type": "stream",
     "text": [
      "a    0.25\n",
      "b    0.60\n",
      "c    0.75\n",
      "d    1.00\n",
      "e    1.25\n",
      "dtype: float64 \n",
      "********\n",
      "0.6\n",
      "b    0.60\n",
      "c    0.75\n",
      "dtype: float64 \n",
      "********\n",
      "0.25\n",
      "b    0.60\n",
      "c    0.75\n",
      "d    1.00\n",
      "dtype: float64\n"
     ]
    }
   ],
   "source": [
    "print(s, '\\n********')\n",
    "print(s.iloc[1] )\n",
    "print(s.iloc[1:3], '\\n********')          #implicit, based on normal array indexing starting with 0\n",
    "print(s.loc['a'])\n",
    "print(s.loc['b':'d'])                     #explicit, based on the index we have defined"
   ]
  },
  {
   "cell_type": "markdown",
   "id": "44777a9d",
   "metadata": {},
   "source": [
    "## <font color = red> Operating on Data in Pandas </font>"
   ]
  },
  {
   "cell_type": "code",
   "execution_count": 10,
   "id": "078962f2",
   "metadata": {},
   "outputs": [
    {
     "name": "stdout",
     "output_type": "stream",
     "text": [
      "    A   B\n",
      "0   6  19\n",
      "1  14  10 \n",
      "********\n",
      "   B  A  C\n",
      "0  7  4  6\n",
      "1  9  2  6\n",
      "2  7  4  3 \n",
      "********\n",
      "      A     B   C\n",
      "0  10.0  26.0 NaN\n",
      "1  16.0  19.0 NaN\n",
      "2   NaN   NaN NaN \n",
      "********\n",
      "      A     B    C\n",
      "0  10.0  26.0  6.0\n",
      "1  16.0  19.0  6.0\n",
      "2   4.0   7.0  3.0 \n",
      "********\n",
      "   A  B\n",
      "0  0  0\n",
      "1  8 -9 \n",
      "********\n",
      "   B  A  C\n",
      "0  1 -2  0\n",
      "1  3 -4  0\n",
      "2  4  1  0\n"
     ]
    }
   ],
   "source": [
    "rng = np.random.RandomState(42)\n",
    "A = pd.DataFrame(rng.randint(0, 20, (2, 2)), columns=list('AB'))\n",
    "B = pd.DataFrame(rng.randint(0, 10, (3, 3)), columns=list('BAC'))\n",
    "print(A, '\\n********')\n",
    "print(B, '\\n********')\n",
    "print(A+B, '\\n********')\n",
    "print(A.add(B, fill_value=0), '\\n********')\n",
    "# + add()  \n",
    "# - sub(), subtract()\n",
    "# * mul(), multiply()\n",
    "# / truediv(), div(), divide()\n",
    "# // floordiv()\n",
    "# % mod()\n",
    "# ** pow()\n",
    "print(A - A.iloc[0], '\\n********') #every row of A - A.iloc[0]\n",
    "print(B.subtract(B['C'], axis=0))  #every column of B - B['C']"
   ]
  },
  {
   "cell_type": "markdown",
   "id": "67c540a7",
   "metadata": {},
   "source": [
    "### The difference between data found in many tutorials and data in the real world is that real-world data is rarely clean and homogeneous.</br> The first sentinel value used by Pandas is None, a Python singleton object that is often used for missing data in Python code. Because None is a Python object, it cannot be used in any arbitrary NumPy/Pandas array, but only in arrays with data type 'object'."
   ]
  },
  {
   "cell_type": "markdown",
   "id": "a13973ae",
   "metadata": {},
   "source": [
    "## <font color = red>Cleaning Data </font>\n",
    "### Data cleaning is the process of identifying and fixing incorrect data and preparing data for processing.\n",
    "### <font color=green>1. Removing duplicates</font>\n",
    "### <font color=green>2. Remove irrelevant data</font>\n",
    "for example removing unnecessary columns!\n",
    "### <font color=green>3. Standardize capitalization</font>\n",
    "### <font color=green>4. Convert data type</font>\n",
    "Mainly converting str nased data formats to data-time formats and also checking numeric data\n",
    "to be the float or int dtypes for faster operations.\n",
    "### <font color=green>5. Handling outliers</font>\n",
    "### <font color=green>6. Fix errors</font>\n",
    "### <font color=green>7. Language Translation</font>\n",
    "### <font color=green>8. Handle missing values</font>"
   ]
  },
  {
   "cell_type": "code",
   "execution_count": 11,
   "id": "7cc0d814",
   "metadata": {},
   "outputs": [
    {
     "name": "stdout",
     "output_type": "stream",
     "text": [
      "[1 None 3 4]\n"
     ]
    }
   ],
   "source": [
    "n1 = np.array([1, None, 3, 4]); print(n1)\n",
    "# trying to n1.sum() throws and error because None can not be used in arithmetic operations "
   ]
  },
  {
   "cell_type": "markdown",
   "id": "adcb76ed",
   "metadata": {},
   "source": [
    "### The other missing data representation, <font color=green>NaN</font> (acronym for Not a Number), is different; it is a special floating-point value recognized by all systems that use the standard IEEE floating-point representation."
   ]
  },
  {
   "cell_type": "code",
   "execution_count": 12,
   "id": "cc73d729",
   "metadata": {},
   "outputs": [
    {
     "name": "stdout",
     "output_type": "stream",
     "text": [
      "[ 1. nan  3.  4.]\n",
      "nan nan nan\n",
      "8.0 1.0 4.0 \n",
      "********\n",
      "0    1.0\n",
      "1    NaN\n",
      "2    2.0\n",
      "3    NaN\n",
      "dtype: float64\n"
     ]
    }
   ],
   "source": [
    "n2 = np.array([1, np.nan, 3, 4]); print(n2)\n",
    "# You should be aware that NaN is a bit like a data virus—it infects any other object it touches.\n",
    "# Regardless of the operation, the result of arithmetic with NaN will be another NaN\n",
    "print(n2.sum(), n2.min(), n2.max())\n",
    "# NumPy does provide some special aggregations that will ignore these missing values:\n",
    "print(np.nansum(n2), np.nanmin(n2), np.nanmax(n2), '\\n********' )\n",
    "# Notice that in addition to casting the integer array to floating point because of Nan,\n",
    "# Also, Pandas automatically converts the None to a NaN value\n",
    "n3 = pd.Series([1, np.nan, 2, None])\n",
    "print(n3)"
   ]
  },
  {
   "cell_type": "code",
   "execution_count": 13,
   "id": "26e3a5e0",
   "metadata": {},
   "outputs": [
    {
     "name": "stdout",
     "output_type": "stream",
     "text": [
      "0        1\n",
      "1      NaN\n",
      "2    hello\n",
      "3     None\n",
      "4    False\n",
      "dtype: object \n",
      "********\n",
      "     0    1  2\n",
      "0  1.0  NaN  2\n",
      "1  2.0  3.0  5\n",
      "2  NaN  4.0  6 \n",
      "********\n",
      "     0    1  2\n",
      "1  2.0  3.0  5 \n",
      "********\n"
     ]
    }
   ],
   "source": [
    "n4 = pd.Series([1, np.nan, 'hello', None, False]); print(n4,  '\\n********')\n",
    "# n4.isnull()           Generate a Boolean mask indicating missing values\n",
    "# n4[n4.notnull()]      returns not null values\n",
    "n5 = pd.DataFrame([[1, np.nan, 2], [2, 3, 5], [np.nan, 4, 6]])\n",
    "print(n5, '\\n********')\n",
    "print(n5.dropna() , '\\n********')        # drop all rows containing Nan\n",
    "# n5.dropna(axis='columns')              # drop all columns containing Nan\n",
    "# n5.dropna(axis='columns', how='all')   # drop columns if all values are Nan\n",
    "# n5.dropna(axis='rows', thresh=3)       # drop rows if less than 3 not-Nan are there \n",
    "# n5.fillna(0)                           # fill with 0\n",
    "# n5.fillna(method='ffill' , axis = 1)   # fill with previous value baswed on columns\n",
    "# n5.fillna(method='bfill' , axis = 0)   # fill with next values based on rows\n",
    "# remember if next or previous values are Nan, then it will fill it with Nan!"
   ]
  },
  {
   "cell_type": "code",
   "execution_count": 14,
   "id": "6fe8cd9b",
   "metadata": {},
   "outputs": [
    {
     "name": "stdout",
     "output_type": "stream",
     "text": [
      "  employee  salary        group\n",
      "0      Bob    7000   Accounting\n",
      "1     Jake   12000  Engineering\n",
      "2     Lisa    8000  Engineering\n",
      "3      Sue   10500           HR\n",
      "4      Bob    7000   Accounting\n",
      "5      Bob    7000           HR \n",
      "**********\n",
      "  employee  salary       group\n",
      "0      Bob    7000  Accounting\n",
      "4      Bob    7000  Accounting \n",
      "**********\n",
      "  employee  salary       group\n",
      "4      Bob    7000  Accounting \n",
      "**********\n"
     ]
    }
   ],
   "source": [
    "df = pd.DataFrame({'employee': ['Bob', 'Jake', 'Lisa', 'Sue'],'salary':[7000, 12000, 8000, 10500],\n",
    "                    'group': ['Accounting', 'Engineering', 'Engineering', 'HR']})\n",
    "\n",
    "#print(df['group'].value_counts())  #count of values\n",
    "#print(df['group'].unique())        #extract uniq values as a list\n",
    "\n",
    "'''droping'''\n",
    "# df.drop('group', axis=1, inplace=True) removing group column\n",
    "# df.drop(df[df['salary'] < 8000].index, inplace = True)  drops indices with lower salary\n",
    "\n",
    "'''duplicate values'''\n",
    "# add a row using dictionary\n",
    "# new_row_dic = {'employee':'Bob' , 'salary':[7000],'group': ['Accounting'] }\n",
    "# df = pd.concat([df, pd.DataFrame(new_row_dic)], ignore_index = True) \n",
    "\n",
    "# adding a row using lists\n",
    "new_ls = ['Bob', 7000, 'Accounting']; new_ls2 = ['Bob', 7000, 'HR']\n",
    "df.loc[len(df.index)] = new_ls ; df.loc[len(df.index)] = new_ls2\n",
    "print(df,'\\n**********')\n",
    "\n",
    "# print(df.duplicated())  #A boolean list checks if a row has a fully duplicated row before or not\n",
    "# print(df['salary'].duplicated()) #boolean list of specific col\n",
    "print(df[df.duplicated(keep = False)],'\\n**********')\n",
    "print(df[df.duplicated(subset = ['employee','group'], keep = 'first')],'\\n**********') #all duplicates in specific columns\n",
    "# false brings all the duplicate values, 'first' returns first duplicate, 'last' returns last one\n",
    "# df.drop_duplicates(inplace=True) #drops fully duplicated rows and only one remains"
   ]
  },
  {
   "cell_type": "markdown",
   "id": "04213e17",
   "metadata": {},
   "source": [
    "## <font color = red> Hierarchical Indexing </font>"
   ]
  },
  {
   "cell_type": "code",
   "execution_count": 15,
   "id": "d792e693",
   "metadata": {},
   "outputs": [
    {
     "name": "stdout",
     "output_type": "stream",
     "text": [
      "name         Bob         Joe        Alex      \n",
      "type          HR  Temp    HR  Temp    HR  Temp\n",
      "year visit                                    \n",
      "2013 1      31.0  37.9  29.0  36.7  42.0  35.6\n",
      "     2      46.0  38.8  13.0  39.1  42.0  36.5\n",
      "2014 1      36.0  36.9  24.0  37.8  48.0  38.0\n",
      "     2      43.0  37.5  28.0  37.5  29.0  37.3\n"
     ]
    }
   ],
   "source": [
    "# hierarchical indices and columns\n",
    "index = pd.MultiIndex.from_product([[2013, 2014], [1, 2]], names=['year', 'visit'])\n",
    "columns = pd.MultiIndex.from_product([['Bob', 'Joe', 'Alex'], ['HR', 'Temp']], names=['name', 'type'])\n",
    "# mock some data\n",
    "data = np.round(np.random.randn(4, 6), 1)\n",
    "data[:, ::2] *= 10\n",
    "data += 37\n",
    "# create the DataFrame\n",
    "health_data = pd.DataFrame(data, index=index, columns=columns)\n",
    "print(health_data)"
   ]
  },
  {
   "cell_type": "code",
   "execution_count": 16,
   "id": "f7002065",
   "metadata": {},
   "outputs": [
    {
     "name": "stdout",
     "output_type": "stream",
     "text": [
      "name         Bob   Joe  Alex\n",
      "type          HR    HR    HR\n",
      "year visit                  \n",
      "2013 1      31.0  29.0  42.0\n",
      "2014 1      36.0  24.0  48.0 \n",
      "*************\n",
      "name    Bob                     Joe                    Alex                  \n",
      "type     HR        Temp          HR        Temp          HR        Temp      \n",
      "visit     1     2     1     2     1     2     1     2     1     2     1     2\n",
      "year                                                                         \n",
      "2013   31.0  46.0  37.9  38.8  29.0  13.0  36.7  39.1  42.0  42.0  35.6  36.5\n",
      "2014   36.0  43.0  36.9  37.5  24.0  28.0  37.8  37.5  48.0  29.0  38.0  37.3 \n",
      "*************\n",
      "year\n",
      "2013    35.633333\n",
      "2014    36.083333\n",
      "dtype: float64\n"
     ]
    }
   ],
   "source": [
    "# health_data['Bob']\n",
    "# health_data['Bob', 'HR']\n",
    "# health_data.iloc[:2, :2]\n",
    "############################################################################\n",
    "idx = pd.IndexSlice\n",
    "#                        year ,visit     name    type\n",
    "print(health_data.loc[idx[:,     1], idx[  :,     'HR']], '\\n*************')\n",
    "#############################################################################\n",
    "print(health_data.unstack(level=1), '\\n*************') #or level=1\n",
    "print(health_data.unstack(level=1).mean(axis=1))\n",
    "# health_data.unstack().stack()  we have stack() for the reverse mode"
   ]
  },
  {
   "cell_type": "markdown",
   "id": "f459de1f",
   "metadata": {},
   "source": [
    "## <font color = red>Combining Datasets</font>"
   ]
  },
  {
   "cell_type": "code",
   "execution_count": 17,
   "id": "b8df0f13",
   "metadata": {},
   "outputs": [
    {
     "name": "stdout",
     "output_type": "stream",
     "text": [
      "    a   b   c\n",
      "0  a0  b0  c0\n",
      "1  a1  b1  c1 \n",
      "********\n",
      "    a   b   c\n",
      "2  a2  b2  c2\n",
      "3  a3  b3  c3 \n",
      "********\n",
      "    b   c   d\n",
      "4  b4  c4  d4\n",
      "5  b5  c5  d5\n"
     ]
    }
   ],
   "source": [
    "# pd.concat() can be used for a simple concatenation of Series or DataFrame objects\n",
    "df1 = pd.DataFrame([['a0','b0','c0'],['a1','b1','c1']],columns=['a', 'b','c'], index=[0,1])\n",
    "df2 = pd.DataFrame([['a2','b2','c2'],['a3','b3','c3']],columns=['a', 'b','c'], index=[2,3])\n",
    "df3 = pd.DataFrame([['b4','c4','d4'],['b5','c5','d5']],columns=['b', 'c','d'], index=[4,5])\n",
    "df4 = pd.DataFrame([['b0','c0','d0'],['b1','c1','d1']],columns=['b', 'c','d'], index=[0,1])\n",
    "print(df1,'\\n********' );print(df2,'\\n********');print(df3)"
   ]
  },
  {
   "cell_type": "code",
   "execution_count": 18,
   "id": "96a3a144",
   "metadata": {},
   "outputs": [
    {
     "name": "stdout",
     "output_type": "stream",
     "text": [
      "    a   b   c\n",
      "0  a0  b0  c0\n",
      "1  a1  b1  c1\n",
      "0  a0  b0  c0\n",
      "1  a1  b1  c1 \n",
      "********\n",
      "    a   b   c\n",
      "0  a0  b0  c0\n",
      "1  a1  b1  c1\n",
      "2  a0  b0  c0\n",
      "3  a1  b1  c1 \n",
      "********\n",
      "     a   b   c    d\n",
      "2   a2  b2  c2  NaN\n",
      "3   a3  b3  c3  NaN\n",
      "4  NaN  b4  c4   d4\n",
      "5  NaN  b5  c5   d5 \n",
      "********\n",
      "     a    b    c    b    c    d\n",
      "2   a2   b2   c2  NaN  NaN  NaN\n",
      "3   a3   b3   c3  NaN  NaN  NaN\n",
      "4  NaN  NaN  NaN   b4   c4   d4\n",
      "5  NaN  NaN  NaN   b5   c5   d5 \n",
      "********\n",
      "      a   b   c\n",
      "x 0  a0  b0  c0\n",
      "  1  a1  b1  c1\n",
      "y 2  a2  b2  c2\n",
      "  3  a3  b3  c3 \n",
      "********\n",
      "    b   c\n",
      "2  b2  c2\n",
      "3  b3  c3\n",
      "4  b4  c4\n",
      "5  b5  c5 \n",
      "********\n"
     ]
    }
   ],
   "source": [
    "# pd.concat(objs, axis=0, join='outer', ignore_index=False,\n",
    "#    keys=None, levels=None, names=None, verify_integrity=False, copy=True)\n",
    "\n",
    "print(pd.concat([df1, df1]), '\\n********')  #regardless of duplicate index or not, it will concat downwards by raws.\n",
    "# ,verify_integrity=True throws an error if we have duplicate index\n",
    "print(pd.concat([df1, df1], ignore_index=True), '\\n********') #will create a new integer index for result\n",
    "\n",
    "\n",
    "print(pd.concat([df2, df3]), '\\n********')\n",
    "print(pd.concat([df2, df3], axis=1), '\\n********') #regardless of duplicate columns or not, it will create new columns\n",
    "\n",
    "print(pd.concat([df1, df2], keys=['x', 'y']),'\\n********') #the keys create the Hierarchical Indexing\n",
    "\n",
    "print(pd.concat([df2, df3], join='inner'),'\\n********') #axis=0,1 join with duplicate rows,columns"
   ]
  },
  {
   "cell_type": "code",
   "execution_count": 19,
   "id": "fa792ba3",
   "metadata": {},
   "outputs": [
    {
     "name": "stdout",
     "output_type": "stream",
     "text": [
      "  employee        group\n",
      "0      Bob   Accounting\n",
      "1     Jake  Engineering\n",
      "2     Lisa  Engineering\n",
      "3      Sue           HR \n",
      "********\n",
      "  employee  hire_date\n",
      "0     Lisa       2004\n",
      "1      Bob       2008\n",
      "2     Jake       2012\n",
      "3      Sue       2014 \n",
      "********\n",
      "   name  salary\n",
      "0   Bob   70000\n",
      "1  Jake   80000\n",
      "2  Lisa  120000\n",
      "3   Sue   90000 \n",
      "********\n"
     ]
    }
   ],
   "source": [
    "df1 = pd.DataFrame({'employee': ['Bob', 'Jake', 'Lisa', 'Sue'],'group': ['Accounting', 'Engineering', 'Engineering', 'HR']})\n",
    "df2 = pd.DataFrame({'employee': ['Lisa', 'Bob', 'Jake', 'Sue'],'hire_date': [2004, 2008, 2012, 2014]})\n",
    "df3 = pd.DataFrame({'name': ['Bob', 'Jake', 'Lisa', 'Sue'],'salary': [70000, 80000, 120000, 90000]})\n",
    "print(df1,'\\n********'); print(df2,'\\n********');  print(df3,'\\n********'); "
   ]
  },
  {
   "cell_type": "code",
   "execution_count": 20,
   "id": "32a1c527",
   "metadata": {},
   "outputs": [
    {
     "name": "stdout",
     "output_type": "stream",
     "text": [
      "  employee        group  hire_date\n",
      "0      Bob   Accounting       2008\n",
      "1     Jake  Engineering       2012\n",
      "2     Lisa  Engineering       2004\n",
      "3      Sue           HR       2014 \n",
      "********\n",
      "  employee        group  name  salary\n",
      "0      Bob   Accounting   Bob   70000\n",
      "1     Jake  Engineering  Jake   80000\n",
      "2     Lisa  Engineering  Lisa  120000\n",
      "3      Sue           HR   Sue   90000\n"
     ]
    }
   ],
   "source": [
    "print(pd.merge(df1, df2),'\\n********') # pd.merge(df1, df2, on='employee')\n",
    "print(pd.merge(df1, df3, left_on=\"employee\", right_on=\"name\")) # different col names\n",
    "# ,suffixes=('_x','_y') in case that merge produces same col twice, the new cols will have these suffixes on names\n",
    "\n",
    "# pd.merge_ordered() #with ordering indices"
   ]
  },
  {
   "cell_type": "code",
   "execution_count": 21,
   "id": "a092496e",
   "metadata": {},
   "outputs": [
    {
     "name": "stdout",
     "output_type": "stream",
     "text": [
      "    name   food\n",
      "0  Peter   fish\n",
      "1   Paul  beans\n",
      "2   Mary  bread \n",
      "********\n",
      "     name drink\n",
      "0    Mary  wine\n",
      "1  Joseph  beer\n"
     ]
    }
   ],
   "source": [
    "df4 = pd.DataFrame({'name': ['Peter', 'Paul', 'Mary'],'food': ['fish', 'beans', 'bread']}, columns=['name', 'food'])\n",
    "df5 = pd.DataFrame({'name': ['Mary', 'Joseph'],'drink': ['wine', 'beer']}, columns=['name', 'drink'])\n",
    "print(df4,'\\n********'); print(df5);"
   ]
  },
  {
   "cell_type": "code",
   "execution_count": 22,
   "id": "98c31da9",
   "metadata": {},
   "outputs": [
    {
     "name": "stdout",
     "output_type": "stream",
     "text": [
      "   name   food drink\n",
      "0  Mary  bread  wine \n",
      "********\n",
      "     name   food drink\n",
      "0   Peter   fish   NaN\n",
      "1    Paul  beans   NaN\n",
      "2    Mary  bread  wine\n",
      "3  Joseph    NaN  beer \n",
      "********\n",
      "    name   food drink\n",
      "0  Peter   fish   NaN\n",
      "1   Paul  beans   NaN\n",
      "2   Mary  bread  wine\n"
     ]
    }
   ],
   "source": [
    "print(pd.merge(df4, df5, on='name'),'\\n********' )  # on = ['a','b']\n",
    "# ,indicator=True adds a column to output df called “_merge” with information on the source of each row\n",
    "print(pd.merge(df4, df5, how='outer'),'\\n********') # how = left,right,outer,inner,cross, default is inner\n",
    "print(pd.merge(df4, df5, how='left')) #also we have how = 'right'"
   ]
  },
  {
   "cell_type": "markdown",
   "id": "3b5506b5",
   "metadata": {},
   "source": [
    "## <font color = red> Aggregation and Grouping</font>"
   ]
  },
  {
   "cell_type": "code",
   "execution_count": 23,
   "id": "8b9f7832",
   "metadata": {},
   "outputs": [
    {
     "name": "stdout",
     "output_type": "stream",
     "text": [
      "   A  B  c\n",
      "0  9  2  6\n",
      "1  8  3  8\n",
      "2  8  0  5\n",
      "3  6  8  2\n",
      "4  9  0  1\n"
     ]
    }
   ],
   "source": [
    "df = pd.DataFrame({'A': np.random.randint(0, 10,(5)),'B': np.random.randint(0, 10,(5)), 'c': np.random.randint(0, 10,(5))})\n",
    "print(df)"
   ]
  },
  {
   "cell_type": "code",
   "execution_count": 24,
   "id": "0aa6d292",
   "metadata": {},
   "outputs": [
    {
     "name": "stdout",
     "output_type": "stream",
     "text": [
      "              A         B         c\n",
      "count  5.000000  5.000000  5.000000\n",
      "mean   8.000000  2.600000  4.400000\n",
      "std    1.224745  3.286335  2.880972\n",
      "min    6.000000  0.000000  1.000000\n",
      "25%    8.000000  0.000000  2.000000\n",
      "50%    8.000000  2.000000  5.000000\n",
      "75%    9.000000  3.000000  6.000000\n",
      "max    9.000000  8.000000  8.000000 \n",
      "********\n",
      "A    8.0\n",
      "B    2.6\n",
      "c    4.4\n",
      "dtype: float64\n",
      "          A    B    c\n",
      "min     6.0  0.0  1.0\n",
      "median  8.0  2.0  5.0\n",
      "max     9.0  8.0  8.0 \n",
      "********\n",
      "A    6\n",
      "B    8\n",
      "dtype: int32 \n",
      "********\n",
      "     A    B    c\n",
      "0  1.0 -0.6  1.6\n",
      "1  0.0  0.4  3.6\n",
      "2  0.0 -2.6  0.6\n",
      "3 -2.0  5.4 -2.4\n",
      "4  1.0 -2.6 -3.4\n"
     ]
    },
    {
     "data": {
      "text/plain": [
       "'apply'"
      ]
     },
     "execution_count": 24,
     "metadata": {},
     "output_type": "execute_result"
    }
   ],
   "source": [
    "print(df.describe(), '\\n********')\n",
    "print(df.mean(axis=0)) # or axis=1\n",
    "# count() Total number of items\n",
    "# first(), last() First and last item\n",
    "# mean(), median() Mean and median\n",
    "# min(), max() Minimum and maximum\n",
    "# std(), var() Standard deviation and variance\n",
    "# mad() Mean absolute deviation\n",
    "# prod() Product of all items\n",
    "# sum() Sum of all items\n",
    "\n",
    "''' aggregate'''\n",
    "print(df.aggregate(['min', np.median, max]),'\\n********')\n",
    "print(df.aggregate({'A': 'min','B': 'max'}),'\\n********')\n",
    "\n",
    "'''transform'''\n",
    "print(df.transform(lambda x: x - x.mean(axis=0)))\n",
    "\n",
    "'''apply'''\n",
    "#def square(x):\n",
    "#    return x * x\n",
    "#df1 = df.apply(square)"
   ]
  },
  {
   "cell_type": "markdown",
   "id": "33540e3c",
   "metadata": {},
   "source": [
    "### makes clear what the GroupBy accomplishes:</br> • The split step involves breaking up and grouping a DataFrame depending on the value of the specified key.</br> • The apply step involves computing some function, usually an aggregate, transfor‐ mation, or filtering, within the individual groups.</br> • The combine step merges the results of these operations into an output array."
   ]
  },
  {
   "attachments": {
    "Screenshot%202023-07-31%20200201.png": {
     "image/png": "[encoded data removed]"
    }
   },
   "cell_type": "markdown",
   "id": "9ecb90c7",
   "metadata": {},
   "source": [
    "![Screenshot%202023-07-31%20200201.png](attachment:Screenshot%202023-07-31%20200201.png)"
   ]
  },
  {
   "cell_type": "code",
   "execution_count": 25,
   "id": "7f285eab",
   "metadata": {},
   "outputs": [
    {
     "name": "stdout",
     "output_type": "stream",
     "text": [
      "  key  data1  data2\n",
      "0   A      0      7\n",
      "1   B      1      7\n",
      "2   C      2      2\n",
      "3   A      3      5\n",
      "4   B      4      4\n",
      "5   C      5      1 \n",
      "********\n",
      "<pandas.core.groupby.generic.DataFrameGroupBy object at 0x0000027F7AF3C650> \n",
      "********\n",
      "     data1  data2\n",
      "key              \n",
      "A        3     12\n",
      "B        5     11\n",
      "C        7      3 \n",
      "********\n",
      "key\n",
      "A    3\n",
      "B    5\n",
      "C    7\n",
      "Name: data1, dtype: int64 \n",
      "********\n"
     ]
    }
   ],
   "source": [
    "df = pd.DataFrame({'key': ['A', 'B', 'C', 'A', 'B', 'C'],'data1': range(6),'data2': rng.randint(0, 10, 6)},\n",
    "                  columns = ['key', 'data1', 'data2'])\n",
    "print(df, '\\n********')\n",
    "\n",
    "print(df.groupby('key'), '\\n********') # you can simply treat it a collection of DataFrames\n",
    "\n",
    "print(df.groupby('key').sum(),'\\n********')\n",
    "print(df.groupby('key')['data1'].sum(),'\\n********')"
   ]
  },
  {
   "cell_type": "code",
   "execution_count": 26,
   "id": "84d05631",
   "metadata": {},
   "outputs": [
    {
     "data": {
      "text/plain": [
       "'Collapsing data into categories'"
      ]
     },
     "execution_count": 26,
     "metadata": {},
     "output_type": "execute_result"
    }
   ],
   "source": [
    "'''Collapsing data into categories'''\n",
    "# mapping = {'Microsoft':'DesktopOS', 'Linux':'DesktopOS','IOS':'MobileOS', 'Android':'MobileOS'}\n",
    "# df['operating_system'] = df['operating_system'].replace(mapping)"
   ]
  },
  {
   "cell_type": "markdown",
   "id": "5b2179bc",
   "metadata": {},
   "source": [
    "## <font color = red> Pivot Tables </font>\n",
    "###  A pivot table is a similar operation that is commonly seen in spreadsheets and other programs that operate on tabular data. The pivot table takes simple columnwise data as input, and groups the entries into a two-dimensional table that provides a multidimensional summarization of the data. The difference between pivot tables and GroupBy can sometimes cause confusion; it helps me to think of pivot tables as essentially a multidimensional version of GroupBy aggregation. That is, you splitapply-combine, but both the split and the combine happen across not a onedimensional index, but across a two-dimensional grid"
   ]
  },
  {
   "cell_type": "code",
   "execution_count": 27,
   "id": "932d791d",
   "metadata": {},
   "outputs": [
    {
     "name": "stdout",
     "output_type": "stream",
     "text": [
      "  sex  age  survived  class\n",
      "0   m   29         0      3\n",
      "1   m   18         1      1\n",
      "2   f   17         1      1\n",
      "3   m   32         0      2\n",
      "4   f   48         0      3\n",
      "5   f   33         1      2\n",
      "6   f   26         0      2\n",
      "7   m   40         1      1\n"
     ]
    }
   ],
   "source": [
    "df = pd.DataFrame({\"sex\": [\"m\", \"m\", \"f\", \"m\", \"f\", \"f\", \"f\", \"m\"],\n",
    "                   \"age\": [29, 18, 17, 32, 48, 33, 26, 40],\n",
    "                   \"survived\": [0, 1, 1, 0,0,1,0,1],\n",
    "                   \"class\": [3, 1, 1, 2, 3, 2, 2, 1],})\n",
    "print(df)"
   ]
  },
  {
   "cell_type": "code",
   "execution_count": 28,
   "id": "f14ebf52",
   "metadata": {},
   "outputs": [
    {
     "name": "stdout",
     "output_type": "stream",
     "text": [
      "class  1  2  3\n",
      "sex           \n",
      "f      1  1  0\n",
      "m      2  0  0 \n",
      "********\n",
      "class  1  2  3  All\n",
      "sex                \n",
      "f      1  1  0    2\n",
      "m      2  0  0    2\n",
      "All    3  1  0    4 \n",
      "********\n"
     ]
    }
   ],
   "source": [
    "# pd.pivot_table(data, values=None, index=None, columns=None, aggfunc='mean',\n",
    "#        fill_value=None, margins=False,  dropna=True, margins_name='All')\n",
    "print(df.pivot_table('survived', index='sex', columns='class', aggfunc = sum),'\\n********' )\n",
    "\n",
    "# It’s useful to compute totals along each grouping. This can be done via the margins keyword\n",
    "print(df.pivot_table('survived', index='sex', columns='class', aggfunc = sum, margins=True),'\\n********' )"
   ]
  },
  {
   "cell_type": "markdown",
   "id": "a4d83989",
   "metadata": {},
   "source": [
    "## <font color = red> Vectorized String Operations </font>\n"
   ]
  },
  {
   "cell_type": "code",
   "execution_count": 29,
   "id": "6fdc9651",
   "metadata": {},
   "outputs": [
    {
     "name": "stdout",
     "output_type": "stream",
     "text": [
      "0    Graham Chapman\n",
      "1       John Cleese\n",
      "2     Terry Gilliam\n",
      "3         Eric Idle\n",
      "4       Terry Jones\n",
      "5     Michael Palin\n",
      "dtype: object\n"
     ]
    }
   ],
   "source": [
    "names = pd.Series(['Graham Chapman', 'John Cleese', 'Terry Gilliam', 'Eric Idle', 'Terry Jones', 'Michael Palin'])\n",
    "print(names)"
   ]
  },
  {
   "cell_type": "code",
   "execution_count": 30,
   "id": "93b4ecd2",
   "metadata": {},
   "outputs": [
    {
     "name": "stdout",
     "output_type": "stream",
     "text": [
      "0    [Graham, Chapman]\n",
      "1       [John, Cleese]\n",
      "2     [Terry, Gilliam]\n",
      "3         [Eric, Idle]\n",
      "4       [Terry, Jones]\n",
      "5     [Michael, Palin]\n",
      "dtype: object \n",
      "********\n",
      "         0\n",
      "0   Graham\n",
      "1     John\n",
      "2    Terry\n",
      "3     Eric\n",
      "4    Terry\n",
      "5  Michael \n",
      "********\n",
      "0    [Graham Chapman]\n",
      "1                  []\n",
      "2     [Terry Gilliam]\n",
      "3                  []\n",
      "4       [Terry Jones]\n",
      "5     [Michael Palin]\n",
      "dtype: object \n",
      "********\n"
     ]
    }
   ],
   "source": [
    "# names.str.capitalize()\n",
    "# names.str.lower() , upper() \n",
    "# names.str.islower() , isupper()\n",
    "# names.str.len()             returns len list\n",
    "# names.str.startswith('T'),endswith('T')  returns a boolean list\n",
    "print(names.str.split(),'\\n********')   #splits based on given str, default is whitespace      \n",
    "print(names.str.extract('([A-Za-z]+)'),'\\n********') #returns the matched re expression\n",
    "# names.str.match('re')                 #returns a boolean list matching the re expression\n",
    "print(names.str.findall(r'^[^AEIOU].*[^aeiou]$'),'\\n********') # find all elements matching the re \n",
    "# names.str.replace()\n",
    "# names.str.contains()  returns a boolean list\n",
    "# names.str.count()\n",
    "# names.str.cat()       concatnate the elements with the given str\n",
    "\n",
    "# df[\"Phone number\"] = df[\"Phone number\"].str.replace(\"-\",\"\")\n"
   ]
  },
  {
   "cell_type": "markdown",
   "id": "fb1f9799",
   "metadata": {},
   "source": [
    "## <font color = red> High-Performance Pandas: eval() and query() </font>"
   ]
  },
  {
   "cell_type": "markdown",
   "id": "cf613adb",
   "metadata": {},
   "source": [
    "### consider this operation : mask = (x > 0.5) & (y < 0.5) </br> Because NumPy evaluates each subexpression, this is roughly equivalent to the following:</br> tmp1 = (x > 0.5)</br> tmp2 = (y < 0.5)</br> mask = tmp1 & tmp2</br> In other words, every intermediate step is explicitly allocated in memory. If the x and y arrays are very large, this can lead to significant memory and computational over head."
   ]
  },
  {
   "cell_type": "markdown",
   "id": "c10f271f",
   "metadata": {},
   "source": [
    "### The <font color = green>Numexpr</font> library gives you the ability to compute this type of compound expression element by element, without the need to allocate full intermediate arrays.The benefit here is that Numexpr evaluates the expression in a way that does not use full-sized temporary arrays, and thus can be much more efficient than NumPy, especially for large arrays."
   ]
  },
  {
   "cell_type": "code",
   "execution_count": 31,
   "id": "e9c62220",
   "metadata": {},
   "outputs": [],
   "source": [
    "#import numexpr\n",
    "#mask = numexpr.evaluate('(x > 0.5) & (y < 0.5)')"
   ]
  },
  {
   "cell_type": "markdown",
   "id": "68c47eb9",
   "metadata": {},
   "source": [
    "### The Pandas eval() and query() tools that we will discuss here are conceptually similar"
   ]
  },
  {
   "cell_type": "code",
   "execution_count": 32,
   "id": "487960e4",
   "metadata": {},
   "outputs": [
    {
     "data": {
      "text/plain": [
       "'Local variables in DataFrame.eval()'"
      ]
     },
     "execution_count": 32,
     "metadata": {},
     "output_type": "execute_result"
    }
   ],
   "source": [
    "'''The eval() function in Pandas uses string expressions to efficiently compute operations using DataFrames'''\n",
    "\n",
    "'''pd.eval() supports all arithmetic operators'''\n",
    "# pd.eval('-df1 * df2 / (df3 + df4) - df5')\n",
    "\n",
    "'''pd.eval() supports all comparison operators'''\n",
    "# pd.eval('df1 < df2 <= df3 != df4')\n",
    "\n",
    "'''pd.eval() supports the & and | bitwise operators'''\n",
    "# pd.eval('(df1 < 0.5) & (df2 < 0.5) | (df3 < df4)')\n",
    "\n",
    "'''it supports the use of the literal and and or in Boolean expressions'''\n",
    "# pd.eval('(df1 < 0.5) and (df2 < 0.5) or (df3 < df4)')\n",
    "\n",
    "'''pd.eval() supports access to object attributes via the obj.attr syntax, and indexes via the obj[index] syntax'''\n",
    "# pd.eval('df2.T[0] + df3.iloc[1]')\n",
    "\n",
    "'''accessing the array elements'''\n",
    "# (df['A'] + df['B']) / (df['C'] - 1)  >>>   pd.eval(\"(df.A + df.B) / (df.C - 1)\")\n",
    "\n",
    "'''create a new column 'D' and assign to it a value computed from the other columns'''\n",
    "# pd.eval('df.D = (df.A + df.B) / df.C', inplace=True)\n",
    "\n",
    "'''Local variables in DataFrame.eval()'''\n",
    "# var = 5\n",
    "# pd.eval('df.A / @var')"
   ]
  },
  {
   "cell_type": "code",
   "execution_count": 33,
   "id": "253856de",
   "metadata": {},
   "outputs": [],
   "source": [
    "# pd.query('df.A < @Cmean and df.B < @Cmean')"
   ]
  },
  {
   "cell_type": "markdown",
   "id": "2fd10280",
   "metadata": {},
   "source": [
    "## <font color=red> Time Series</font>\n"
   ]
  },
  {
   "cell_type": "code",
   "execution_count": 34,
   "id": "c5e737aa",
   "metadata": {},
   "outputs": [
    {
     "name": "stdout",
     "output_type": "stream",
     "text": [
      "22/06/1997\n",
      "1997-06-22 <class 'datetime.date'> 1997 6 22\n",
      "6\n",
      "2134\n"
     ]
    }
   ],
   "source": [
    "from datetime import date\n",
    "\n",
    "bd = date(1997,6,22); date2 = date(2003,4,26)\n",
    "\n",
    "print(bd.strftime(\"%d/%m/%Y\"))\n",
    "print(bd, type(bd), bd.year, bd.month, bd.day)\n",
    "print(bd.weekday()) #0monday #1tuesday ... #6sunday\n",
    "\n",
    "#print(min(bd,date2)) \n",
    "\n",
    "delta = date2 - bd\n",
    "print(delta.days)"
   ]
  },
  {
   "cell_type": "code",
   "execution_count": 35,
   "id": "3f9e5615",
   "metadata": {},
   "outputs": [
    {
     "name": "stdout",
     "output_type": "stream",
     "text": [
      "1997-07-21\n"
     ]
    }
   ],
   "source": [
    "from datetime import timedelta\n",
    "\n",
    "td = timedelta(days=29)\n",
    "print(bd+td)"
   ]
  },
  {
   "cell_type": "code",
   "execution_count": 36,
   "id": "114df66d",
   "metadata": {},
   "outputs": [
    {
     "name": "stdout",
     "output_type": "stream",
     "text": [
      "2017-10-01 15:00:25\n"
     ]
    }
   ],
   "source": [
    "from datetime import datetime\n",
    "\n",
    "#dt = datetime(2017, 10, 1, 15, 23, 25)\n",
    "dt = datetime(year=2017, month=10, day=1,hour=15, minute=23, second=25)\n",
    "\n",
    "dt = dt.replace(minute=0)\n",
    "\n",
    "print(dt.strftime(\"%Y-%m-%d %H:%M:%S\"))"
   ]
  },
  {
   "cell_type": "code",
   "execution_count": 37,
   "id": "3102e06e",
   "metadata": {},
   "outputs": [
    {
     "name": "stdout",
     "output_type": "stream",
     "text": [
      "1997-06-22 07:00:00 <class 'pandas._libs.tslibs.timestamps.Timestamp'>\n"
     ]
    }
   ],
   "source": [
    "import pandas as pd\n",
    "\n",
    "bd = pd.to_datetime('1997-06-22 7:00am')\n",
    "#dates = pd.to_datetime(['2/25/10', '8/6/17', '12/15/12'], format='%m/%d/%y') list of dates\n",
    "\n",
    "print(bd, type(bd))"
   ]
  },
  {
   "cell_type": "code",
   "execution_count": 38,
   "id": "4019b564",
   "metadata": {},
   "outputs": [
    {
     "name": "stdout",
     "output_type": "stream",
     "text": [
      "           Start date            End date\n",
      "0 2017-10-01 15:23:25 2017-10-01 15:26:26\n",
      "1 2017-10-01 15:42:57 2017-10-01 17:49:59\n",
      "<class 'pandas._libs.tslibs.timestamps.Timestamp'>\n"
     ]
    }
   ],
   "source": [
    "#parse_dates is used for cilumns with data format to apply this format on them\n",
    "df = pd.read_csv('df.csv',usecols=['Start date','End date'], parse_dates = ['Start date','End date'])\n",
    "#or \n",
    "#df = pd.read_csv('df.csv',usecols=['Start date','End date'])\n",
    "#df['Start date'] = pd.to_datetime(df[Start date])\n",
    "#df['End date'] = pd.to_datetime(df[End date])\n",
    "\n",
    "print(df.head(2))\n",
    "print(type(df['Start date'].iloc[0]))"
   ]
  },
  {
   "cell_type": "code",
   "execution_count": 39,
   "id": "be0252aa",
   "metadata": {},
   "outputs": [
    {
     "name": "stdout",
     "output_type": "stream",
     "text": [
      "0   0 days 00:03:01\n",
      "1   0 days 02:07:02\n",
      "Name: Duration, dtype: timedelta64[ns]\n",
      "0     181.0\n",
      "1    7622.0\n",
      "Name: Duration, dtype: float64\n",
      "0 days 00:35:40.200000\n",
      "0 days 02:58:21\n"
     ]
    }
   ],
   "source": [
    "df['Duration'] = df['End date'] - df['Start date']\n",
    "print(df['Duration'].head(2))\n",
    "\n",
    "print(df['Duration'].dt.total_seconds().head(2))\n",
    "# .dt.month  .dt.month  .dt.day  .dt.hour  .dt.minute .dt.second \n",
    "\n",
    "print(df['Duration'].mean()); print(df['Duration'].sum())\n",
    "# .min() .max()"
   ]
  },
  {
   "cell_type": "code",
   "execution_count": 40,
   "id": "55828789",
   "metadata": {},
   "outputs": [
    {
     "name": "stdout",
     "output_type": "stream",
     "text": [
      "           Start date            End date        Duration  Start year\n",
      "0 2017-10-01 15:23:25 2017-10-01 15:26:26 0 days 00:03:01        2017\n",
      "1 2017-10-01 15:42:57 2017-10-01 17:49:59 0 days 02:07:02        2017\n"
     ]
    }
   ],
   "source": [
    "df['Start year'] = df['Start date'].dt.year\n",
    "\n",
    "print(df.head(2))"
   ]
  },
  {
   "cell_type": "code",
   "execution_count": null,
   "id": "a2baa11d",
   "metadata": {},
   "outputs": [],
   "source": []
  }
 ],
 "metadata": {
  "kernelspec": {
   "display_name": "Python 3 (ipykernel)",
   "language": "python",
   "name": "python3"
  },
  "language_info": {
   "codemirror_mode": {
    "name": "ipython",
    "version": 3
   },
   "file_extension": ".py",
   "mimetype": "text/x-python",
   "name": "python",
   "nbconvert_exporter": "python",
   "pygments_lexer": "ipython3",
   "version": "3.11.4"
  }
 },
 "nbformat": 4,
 "nbformat_minor": 5
}

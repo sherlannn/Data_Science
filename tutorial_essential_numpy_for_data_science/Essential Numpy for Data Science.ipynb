{
 "cells": [
  {
   "cell_type": "markdown",
   "id": "10e3d144",
   "metadata": {},
   "source": [
    "# Numpy\n",
    "## A practical Numpy tutorial for Data Science by Ehsan Mokhtari\n",
    "### I used 'Python Data Science Handbook by Jake VanderPlas' as a reference for this tutorial"
   ]
  },
  {
   "cell_type": "markdown",
   "id": "209442f2",
   "metadata": {},
   "source": [
    "all data fundamentally as arrays of numbers. No matter what the data\n",
    "are, the first step in making them analyzable will be to transform them into arrays of\n",
    "numbers. tools that Python has for handling such numerical arrays: the NumPy package\n",
    "and the Pandas package. NumPy (short for Numerical Python) pro‐\n",
    "vides an efficient interface to store and operate on dense data buffers. In some ways,\n",
    "NumPy arrays are like Python’s built-in list type, but NumPy arrays provide much\n",
    "more efficient storage and data operations as the arrays grow larger in size. NumPy\n",
    "arrays form the core of nearly the entire ecosystem of data science tools in Python, so\n",
    "time spent learning to use NumPy effectively will be valuable no matter what aspect\n",
    "of data science interests you."
   ]
  },
  {
   "cell_type": "markdown",
   "id": "6b3e5aff",
   "metadata": {},
   "source": [
    "simply use 'pip install numpy' in your shell script to install the numpy.\n",
    "else use 'pip install numpy --upgrade' for updating numpy."
   ]
  },
  {
   "cell_type": "code",
   "execution_count": 1,
   "id": "847dfd16",
   "metadata": {},
   "outputs": [
    {
     "name": "stdout",
     "output_type": "stream",
     "text": [
      "1.25.0\n"
     ]
    }
   ],
   "source": [
    "import numpy as np\n",
    "print(np.__version__)"
   ]
  },
  {
   "cell_type": "markdown",
   "id": "d49faab6",
   "metadata": {},
   "source": [
    "#### Storing different data types in variables"
   ]
  },
  {
   "cell_type": "code",
   "execution_count": 2,
   "id": "4c9002b8",
   "metadata": {},
   "outputs": [],
   "source": [
    "a = 5\n",
    "b = 'hello'\n",
    "c = 54.3\n",
    "d = True\n",
    "e = [5,7,'yes',False]"
   ]
  },
  {
   "cell_type": "markdown",
   "id": "c3088c4f",
   "metadata": {},
   "source": [
    "## <font color= red>The Basics of NumPy Arrays</font>"
   ]
  },
  {
   "cell_type": "markdown",
   "id": "233249a0",
   "metadata": {},
   "source": [
    "### Creating Arrays from Python Lists\n"
   ]
  },
  {
   "cell_type": "code",
   "execution_count": 3,
   "id": "46f28fe4",
   "metadata": {},
   "outputs": [
    {
     "data": {
      "text/plain": [
       "array([1, 4, 2, 5, 3])"
      ]
     },
     "execution_count": 3,
     "metadata": {},
     "output_type": "execute_result"
    }
   ],
   "source": [
    "import numpy as np\n",
    "np.array([1, 4, 2, 5, 3])"
   ]
  },
  {
   "cell_type": "code",
   "execution_count": 4,
   "id": "ec4bb974",
   "metadata": {},
   "outputs": [
    {
     "data": {
      "text/plain": [
       "array([[1, 4, 2, 5, 3],\n",
       "       [2, 3, 4, 5, 6]])"
      ]
     },
     "execution_count": 4,
     "metadata": {},
     "output_type": "execute_result"
    }
   ],
   "source": [
    "np.array([[1, 4, 2, 5, 3],[2,3,4,5,6]]) #2-d array"
   ]
  },
  {
   "cell_type": "code",
   "execution_count": 5,
   "id": "d6cb871b",
   "metadata": {},
   "outputs": [
    {
     "data": {
      "text/plain": [
       "array([1., 2., 3., 4.], dtype=float32)"
      ]
     },
     "execution_count": 5,
     "metadata": {},
     "output_type": "execute_result"
    }
   ],
   "source": [
    "# create using default data type\n",
    "np.array([1, 2, 3, 4], dtype='float32')"
   ]
  },
  {
   "cell_type": "markdown",
   "id": "b900b25c",
   "metadata": {},
   "source": [
    "### creating from scratch"
   ]
  },
  {
   "cell_type": "code",
   "execution_count": 6,
   "id": "81548784",
   "metadata": {},
   "outputs": [
    {
     "data": {
      "text/plain": [
       "array([0, 0, 0, 0, 0, 0, 0, 0, 0, 0])"
      ]
     },
     "execution_count": 6,
     "metadata": {},
     "output_type": "execute_result"
    }
   ],
   "source": [
    "np.zeros(10, dtype=int) #numpy array with 10 elements all set to 0"
   ]
  },
  {
   "cell_type": "code",
   "execution_count": 7,
   "id": "992fdcef",
   "metadata": {},
   "outputs": [
    {
     "data": {
      "text/plain": [
       "array([[1, 1, 1, 1, 1],\n",
       "       [1, 1, 1, 1, 1],\n",
       "       [1, 1, 1, 1, 1]])"
      ]
     },
     "execution_count": 7,
     "metadata": {},
     "output_type": "execute_result"
    }
   ],
   "source": [
    "np.ones((3, 5), dtype=np.int32) # 2-d array with 3 rows and 5 cols all set to 1\n",
    "#dtype = np.int8~64  np.float np.bool  np.complex  np.string_ "
   ]
  },
  {
   "cell_type": "code",
   "execution_count": 8,
   "id": "da25e952",
   "metadata": {},
   "outputs": [
    {
     "data": {
      "text/plain": [
       "array([[7, 7, 7, 7, 7],\n",
       "       [7, 7, 7, 7, 7],\n",
       "       [7, 7, 7, 7, 7]])"
      ]
     },
     "execution_count": 8,
     "metadata": {},
     "output_type": "execute_result"
    }
   ],
   "source": [
    "np.full((3, 5), 7) #the same 2-d python all set to default value we set"
   ]
  },
  {
   "cell_type": "code",
   "execution_count": 9,
   "id": "800a6fc8",
   "metadata": {},
   "outputs": [
    {
     "data": {
      "text/plain": [
       "array([0, 3, 6, 9])"
      ]
     },
     "execution_count": 9,
     "metadata": {},
     "output_type": "execute_result"
    }
   ],
   "source": [
    "# Starting at 0, ending at 10, stepping by 3\n",
    "np.arange(0, 10, 3)"
   ]
  },
  {
   "cell_type": "code",
   "execution_count": 10,
   "id": "fecb4b86",
   "metadata": {},
   "outputs": [
    {
     "data": {
      "text/plain": [
       "array([0.        , 0.11111111, 0.22222222, 0.33333333, 0.44444444,\n",
       "       0.55555556, 0.66666667, 0.77777778, 0.88888889, 1.        ])"
      ]
     },
     "execution_count": 10,
     "metadata": {},
     "output_type": "execute_result"
    }
   ],
   "source": [
    "# Create an array of ten values evenly spaced between 0 and 1\n",
    "np.linspace(0, 1, 10)"
   ]
  },
  {
   "cell_type": "code",
   "execution_count": 11,
   "id": "30d73614",
   "metadata": {},
   "outputs": [
    {
     "data": {
      "text/plain": [
       "array([0.78402642, 0.04403597, 0.71252067])"
      ]
     },
     "execution_count": 11,
     "metadata": {},
     "output_type": "execute_result"
    }
   ],
   "source": [
    "np.random.random((3)) #1-d array with 3 random values between 0 and 1 "
   ]
  },
  {
   "cell_type": "code",
   "execution_count": 12,
   "id": "0186de63",
   "metadata": {},
   "outputs": [
    {
     "data": {
      "text/plain": [
       "array([7, 2, 6])"
      ]
     },
     "execution_count": 12,
     "metadata": {},
     "output_type": "execute_result"
    }
   ],
   "source": [
    "np.random.randint(0, 10, (3)) #the same array but this time the random range is between 0 and 10"
   ]
  },
  {
   "cell_type": "markdown",
   "id": "3b4604b1",
   "metadata": {},
   "source": [
    "### NumPy Array Attributes"
   ]
  },
  {
   "cell_type": "code",
   "execution_count": 13,
   "id": "8a26cb09",
   "metadata": {},
   "outputs": [
    {
     "name": "stdout",
     "output_type": "stream",
     "text": [
      "[[[3 7 2 3]\n",
      "  [9 5 4 9]\n",
      "  [6 3 1 7]]\n",
      "\n",
      " [[2 0 2 8]\n",
      "  [4 3 8 2]\n",
      "  [4 1 7 9]]]\n",
      "x ndim:  3\n",
      "x shape: (2, 3, 4)\n",
      "x size:  24\n",
      "dtype: int32\n"
     ]
    }
   ],
   "source": [
    "x = np.random.randint(0,10, size=(2, 3, 4)) # 2 dimension, 3 rows for each dimension, 4 col for each dimension \n",
    "print(x)\n",
    "print(\"x ndim: \", x.ndim)  #number of dimension\n",
    "print(\"x shape:\", x.shape) #the total shape of array\n",
    "print(\"x size: \", x.size)  #totall elements of array\n",
    "print(\"dtype:\", x.dtype)   # data type of elements"
   ]
  },
  {
   "cell_type": "markdown",
   "id": "491565f1",
   "metadata": {},
   "source": [
    "### Array Indexing"
   ]
  },
  {
   "cell_type": "code",
   "execution_count": 14,
   "id": "027b38a1",
   "metadata": {},
   "outputs": [
    {
     "name": "stdout",
     "output_type": "stream",
     "text": [
      "0\n",
      "9\n",
      "9\n"
     ]
    }
   ],
   "source": [
    "x = np.arange(10)\n",
    "print(x[0])        # access the first element of the array\n",
    "print(x[len(x)-1]) # last element\n",
    "print(x[-1])       # last element"
   ]
  },
  {
   "cell_type": "code",
   "execution_count": 15,
   "id": "f8978a82",
   "metadata": {},
   "outputs": [
    {
     "name": "stdout",
     "output_type": "stream",
     "text": [
      "[[3 3 6 4]\n",
      " [6 5 9 5]\n",
      " [7 1 9 4]]\n",
      "9\n",
      "4\n",
      "4\n",
      "[[12  3  6  4]\n",
      " [ 6  5  9  5]\n",
      " [ 7  1  9  4]]\n"
     ]
    }
   ],
   "source": [
    "x = np.random.randint(0, 10, (3,4))\n",
    "print(x)\n",
    "print(x[1, 2])  # first element is for row second is for column\n",
    "print(x[2, -1]) \n",
    "print(x[2][-1]) #another way for accessing\n",
    "x[0, 0] = 12    # modifying an array element\n",
    "print(x)"
   ]
  },
  {
   "cell_type": "markdown",
   "id": "6f7504a2",
   "metadata": {},
   "source": [
    "### Array slicing"
   ]
  },
  {
   "cell_type": "code",
   "execution_count": 16,
   "id": "46a049c3",
   "metadata": {},
   "outputs": [
    {
     "name": "stdout",
     "output_type": "stream",
     "text": [
      "[ 0  1  2  3  4  5  6  7  8  9 10 11 12 13 14 15 16 17 18 19]\n",
      "[0 1 2 3 4]\n",
      "[ 5  6  7  8  9 10 11 12 13 14 15 16 17 18 19]\n",
      "[10 11 12 13 14]\n",
      "[ 2  5  8 11]\n"
     ]
    }
   ],
   "source": [
    "x = np.arange(20)\n",
    "print(x)\n",
    "print(x[:5])    #elements from start of the array to index n-1 here is 5-1 = 4 so these are : x0 x1 x2 x3 x4 \n",
    "print(x[5:])    # elements after index 5\n",
    "print(x[10:15]) #beteween index 10 and 15-1 =14\n",
    "print(x[2:14:3]) #between 2 and 14-1=13 with the steps of 3"
   ]
  },
  {
   "cell_type": "code",
   "execution_count": 17,
   "id": "7a54d486",
   "metadata": {},
   "outputs": [
    {
     "name": "stdout",
     "output_type": "stream",
     "text": [
      "[[9 5 8 9]\n",
      " [5 2 0 1]\n",
      " [5 5 0 2]]\n",
      "[[9 5]\n",
      " [5 2]]\n",
      "[9 5 5]\n"
     ]
    }
   ],
   "source": [
    "x = np.random.randint(0, 10, (3,4))\n",
    "print(x)\n",
    "print(x[:2, :2]) # two first rows with two first columns\n",
    "print(x[:, 0])  #first columns of all rows\n",
    "x[0, 0] = 99    # modify the element"
   ]
  },
  {
   "cell_type": "code",
   "execution_count": 18,
   "id": "6f17e3ce",
   "metadata": {},
   "outputs": [
    {
     "name": "stdout",
     "output_type": "stream",
     "text": [
      "[[99  5  8  9]\n",
      " [ 5  2  0  1]\n",
      " [ 5  5  0  2]]\n"
     ]
    }
   ],
   "source": [
    "y = x.copy() #create a copy of x in variable y\n",
    "# y = x just is a view and stores the address of x inside y and every time we modify y, the x changes too!\n",
    "print(y)"
   ]
  },
  {
   "cell_type": "markdown",
   "id": "47e49a34",
   "metadata": {},
   "source": [
    "### Reshaping of Arrays"
   ]
  },
  {
   "cell_type": "code",
   "execution_count": 19,
   "id": "10e48245",
   "metadata": {},
   "outputs": [
    {
     "name": "stdout",
     "output_type": "stream",
     "text": [
      "[ 1  2  3  4  5  6  7  8  9 10 11 12]\n",
      "[[ 1  2  3  4]\n",
      " [ 5  6  7  8]\n",
      " [ 9 10 11 12]]\n",
      "[[ 1]\n",
      " [ 2]\n",
      " [ 3]\n",
      " [ 4]\n",
      " [ 5]\n",
      " [ 6]\n",
      " [ 7]\n",
      " [ 8]\n",
      " [ 9]\n",
      " [10]\n",
      " [11]\n",
      " [12]]\n",
      "[ 1  2  3  4  5  6  7  8  9 10 11 12]\n"
     ]
    }
   ],
   "source": [
    "x = np.arange(1, 13)      #1-d array from 0 to 11\n",
    "print(x)\n",
    "x = x.reshape(3,4)        #reshaping it to an 3*4 array with 3 rows and 4 columns\n",
    "print(x)                  \n",
    "x = x.reshape(x.size,1)   #converting it to an vertical array\n",
    "print(x) \n",
    "x = x.flatten()           ##converting it to the same 1-d array\n",
    "print(x)"
   ]
  },
  {
   "cell_type": "markdown",
   "id": "3e92ba61",
   "metadata": {},
   "source": [
    "### Concatenation of arrays"
   ]
  },
  {
   "cell_type": "code",
   "execution_count": 20,
   "id": "a4243213",
   "metadata": {},
   "outputs": [
    {
     "name": "stdout",
     "output_type": "stream",
     "text": [
      "[1 2 3 4 5 6]\n"
     ]
    }
   ],
   "source": [
    "x = np.array([1, 2, 3])\n",
    "y = np.array([4, 5, 6])\n",
    "z = np.concatenate([x, y])\n",
    "print(z)"
   ]
  },
  {
   "cell_type": "code",
   "execution_count": 21,
   "id": "63124af1",
   "metadata": {},
   "outputs": [
    {
     "name": "stdout",
     "output_type": "stream",
     "text": [
      "[[ 1  2  3]\n",
      " [ 4  5  6]\n",
      " [ 7  8  9]\n",
      " [10 11 12]]\n"
     ]
    }
   ],
   "source": [
    "x = np.array([[1, 2, 3],[4,5,6]])         #1-d array\n",
    "y = np.array([[7, 8, 9],[10,11,12]])      #2-d array\n",
    "z = np.concatenate([x, y])\n",
    "print(z)"
   ]
  },
  {
   "cell_type": "code",
   "execution_count": 22,
   "id": "b87ad0b7",
   "metadata": {},
   "outputs": [
    {
     "name": "stdout",
     "output_type": "stream",
     "text": [
      "[[1 2 3]\n",
      " [4 5 6]\n",
      " [7 8 9]]\n"
     ]
    }
   ],
   "source": [
    "# For working with arrays of mixed dimensions, it can be clearer to use the np.vstack (vertical stack)\n",
    "# and np.hstack (horizontal stack) functions\n",
    "x = np.array([1, 2, 3])\n",
    "y = np.array([[4, 5, 6],[7,8,9]])\n",
    "z = np.vstack([x, y])\n",
    "print(z)"
   ]
  },
  {
   "cell_type": "markdown",
   "id": "85e8b930",
   "metadata": {},
   "source": [
    "### Splitting of arrays"
   ]
  },
  {
   "cell_type": "code",
   "execution_count": 23,
   "id": "ce713a7f",
   "metadata": {},
   "outputs": [
    {
     "name": "stdout",
     "output_type": "stream",
     "text": [
      "[1 2 3] [4 5] [ 6  7  8  9 10]\n"
     ]
    }
   ],
   "source": [
    "x = [1, 2, 3, 4, 5, 6, 7, 8, 9 ,10]\n",
    "x1, x2, x3 = np.split(x, [3, 5]) #x1 from x[0] to x[3-1] , x2 from x[3] to x[5-1], x3 = x[5] to the end\n",
    "print(x1, x2, x3)"
   ]
  },
  {
   "cell_type": "markdown",
   "id": "4a70044d",
   "metadata": {},
   "source": [
    "## <font color = red>Computation on NumPy Arrays: Universal Functions</font>"
   ]
  },
  {
   "cell_type": "markdown",
   "id": "fff614c9",
   "metadata": {},
   "source": [
    "Python’s default implementation (known as CPython) does some operations very\n",
    "slowly. This is in part due to the dynamic, interpreted nature of the language: the fact\n",
    "that types are flexible, so that sequences of operations cannot be compiled down to\n",
    "efficient machine code as in languages like C and Fortran.\n",
    "For many types of operations, NumPy provides a convenient interface into just this\n",
    "kind of statically typed, compiled routine. This is known as a vectorized operation.\n",
    "You can accomplish this by simply performing an operation on the array, which will\n",
    "then be applied to each element, leading to much faster execution"
   ]
  },
  {
   "cell_type": "code",
   "execution_count": 24,
   "id": "b35cdf58",
   "metadata": {},
   "outputs": [
    {
     "name": "stdout",
     "output_type": "stream",
     "text": [
      "x = [0 1 2 3]\n",
      "x + 5 = [5 6 7 8]\n",
      "x - 5 = [-5 -4 -3 -2]\n",
      "x * 2 = [0 2 4 6]\n",
      "x / 2 = [0.  0.5 1.  1.5]\n",
      "x // 2 = [0 0 1 1]\n",
      "-x =  [ 0 -1 -2 -3]\n",
      "x ** 2 =  [0 1 4 9]\n",
      "x % 2 =  [0 1 0 1]\n",
      "[4 3 2 1]\n"
     ]
    }
   ],
   "source": [
    "x = np.arange(4)\n",
    "print(\"x =\", x)           \n",
    "print(\"x + 5 =\", x + 5)    #ufunc +\n",
    "print(\"x - 5 =\", x - 5)    #ufunc -\n",
    "print(\"x * 2 =\", x * 2)    #ufunc *\n",
    "print(\"x / 2 =\", x / 2)    #ufunc /\n",
    "print(\"x // 2 =\", x // 2)  #ufunc floor division\n",
    "print(\"-x = \", -x)         #ufunc *negative\n",
    "print(\"x ** 2 = \", x ** 2) #ufunc power of\n",
    "print(\"x % 2 = \", x % 2)   #ufunc reminder\n",
    "print(np.abs(x-4))         #absolute function"
   ]
  },
  {
   "cell_type": "code",
   "execution_count": 25,
   "id": "c703943f",
   "metadata": {},
   "outputs": [],
   "source": [
    "# print(\"sin(theta) = \", np.sin(theta))  for calculationg the sin\n",
    "# print(\"cos(theta) = \", np.cos(theta))  for calculationg the cos\n",
    "# print(\"tan(theta) = \", np.tan(theta))  for calculationg the tan whis is sin/cos"
   ]
  },
  {
   "cell_type": "code",
   "execution_count": 26,
   "id": "3b163dd2",
   "metadata": {},
   "outputs": [
    {
     "name": "stdout",
     "output_type": "stream",
     "text": [
      "x = [1, 2, 3]\n",
      "e^x = [ 2.71828183  7.3890561  20.08553692]\n",
      "2^x = [2. 4. 8.]\n",
      "3^x = [ 3  9 27]\n"
     ]
    }
   ],
   "source": [
    "x = [1, 2, 3]\n",
    "print(\"x =\", x)\n",
    "print(\"e^x =\", np.exp(x))             # e to power of x\n",
    "print(\"2^x =\", np.exp2(x))            # 2 to power of x\n",
    "print(\"3^x =\", np.power(3, x ))        # n to power of x"
   ]
  },
  {
   "cell_type": "code",
   "execution_count": 27,
   "id": "b24a21ea",
   "metadata": {},
   "outputs": [
    {
     "name": "stdout",
     "output_type": "stream",
     "text": [
      "x = [1, 2, 4, 10]\n",
      "ln(x) = [0.         0.69314718 1.38629436 2.30258509]\n",
      "log2(x) = [0.         1.         2.         3.32192809]\n",
      "log10(x) = [0.         0.30103    0.60205999 1.        ]\n"
     ]
    }
   ],
   "source": [
    "x = [1, 2, 4, 10]\n",
    "print(\"x =\", x)\n",
    "print(\"ln(x) =\", np.log(x))         # ln x\n",
    "print(\"log2(x) =\", np.log2(x))      # log x  for base = 2\n",
    "print(\"log10(x) =\", np.log10(x))    # log x  for base 10"
   ]
  },
  {
   "cell_type": "markdown",
   "id": "5bca562d",
   "metadata": {},
   "source": [
    "## <font color = red> Aggregations</font>\n",
    "NumPy has fast built-in aggregation functions for working on arrays; we’ll discuss and demonstrate some of them here."
   ]
  },
  {
   "cell_type": "code",
   "execution_count": 28,
   "id": "0514c898",
   "metadata": {},
   "outputs": [
    {
     "name": "stdout",
     "output_type": "stream",
     "text": [
      "sum is :  4989\n",
      "max is :  99\n",
      "min is :  1\n",
      "mean is :  49.89\n",
      "standard deviation is :  26.47220995685853\n",
      "variance is :  700.7778999999999\n",
      "median is :  48.0\n"
     ]
    }
   ],
   "source": [
    "x = np.random.randint(1,100,100) \n",
    "sum_of_x = np.sum(x)       #sum function\n",
    "print('sum is : ',sum_of_x)\n",
    "maxim = np.max(x)\n",
    "print('max is : ',maxim)\n",
    "minim = np.min(x)\n",
    "print('min is : ',minim)\n",
    "mean = np.mean(x)\n",
    "print('mean is : ', mean)\n",
    "std = np.std(x)\n",
    "print('standard deviation is : ', std)\n",
    "variance = np.var(x)\n",
    "print('variance is : ', variance)\n",
    "median = np.median(x)\n",
    "print('median is : ', median)"
   ]
  },
  {
   "cell_type": "markdown",
   "id": "556694f7",
   "metadata": {},
   "source": [
    "## <font color = red> Broadcasting </font>\n",
    "Broadcasting is simply a\n",
    "set of rules for applying binary ufuncs (addition, subtraction, multiplication, etc.) on\n",
    "arrays of different sizes."
   ]
  },
  {
   "cell_type": "markdown",
   "id": "5cdf5c1f",
   "metadata": {},
   "source": [
    "#### Broadcasting in NumPy follows a strict set of rules to determine the interaction between the two arrays:\n",
    "##### • Rule 1: If the two arrays differ in their number of dimensions, the shape of the one with fewer dimensions is padded with ones on its leading (left) side.\n",
    "##### • Rule 2: If the shape of the two arrays does not match in any dimension, the array with shape equal to 1 in that dimension is stretched to match the other shape.\n",
    "##### • Rule 3: If in any dimension the sizes disagree and neither is equal to 1, an error is raised.\n"
   ]
  },
  {
   "attachments": {
    "02.05-broadcasting.png": {
     "image/png": "[encoded data removed]"
    }
   },
   "cell_type": "markdown",
   "id": "32adf373",
   "metadata": {},
   "source": [
    "![02.05-broadcasting.png](attachment:02.05-broadcasting.png)"
   ]
  },
  {
   "cell_type": "code",
   "execution_count": 29,
   "id": "43060e31",
   "metadata": {},
   "outputs": [
    {
     "name": "stdout",
     "output_type": "stream",
     "text": [
      "x is : \n",
      " [[1. 1. 1.]\n",
      " [1. 1. 1.]] \n",
      " ************\n",
      "y is : \n",
      " [0 1 2] \n",
      " ************\n",
      "z is : \n",
      " [[1. 2. 3.]\n",
      " [1. 2. 3.]]\n"
     ]
    }
   ],
   "source": [
    "#Broadcasting example for rule 1\n",
    "x = np.ones((2, 3))\n",
    "print('x is : \\n',x,'\\n ************')\n",
    "y = np.arange(3)\n",
    "print('y is : \\n',y,'\\n ************')\n",
    "z = x+y\n",
    "print('z is : \\n',z)"
   ]
  },
  {
   "cell_type": "code",
   "execution_count": 30,
   "id": "1a15a799",
   "metadata": {},
   "outputs": [
    {
     "name": "stdout",
     "output_type": "stream",
     "text": [
      "x is : \n",
      " [[0]\n",
      " [1]\n",
      " [2]] \n",
      " ************\n",
      "y is : \n",
      " [0 1 2] \n",
      " ************\n",
      "z is : \n",
      " [[0 1 2]\n",
      " [1 2 3]\n",
      " [2 3 4]]\n"
     ]
    }
   ],
   "source": [
    "#Broadcasting example for rule 2\n",
    "x = np.arange(3).reshape((3, 1))\n",
    "print('x is : \\n',x,'\\n ************')\n",
    "y = np.arange(3)\n",
    "print('y is : \\n',y,'\\n ************')\n",
    "z = x+y\n",
    "print('z is : \\n',z)"
   ]
  },
  {
   "cell_type": "markdown",
   "id": "2ca465dc",
   "metadata": {},
   "source": [
    "## <font color = red> Masks</font>\n",
    "Masking comes up when you want to extract, modify, count, or\n",
    "otherwise manipulate values in an array based on some criterion"
   ]
  },
  {
   "cell_type": "code",
   "execution_count": 31,
   "id": "d29eed58",
   "metadata": {},
   "outputs": [
    {
     "name": "stdout",
     "output_type": "stream",
     "text": [
      "[ 1  2  3  4  5  6  7  8  9 10 11 12 13 14 15 16 17 18 19 20]\n"
     ]
    }
   ],
   "source": [
    "x = np.arange(1,21)\n",
    "print(x)"
   ]
  },
  {
   "cell_type": "code",
   "execution_count": 32,
   "id": "a0079ec2",
   "metadata": {},
   "outputs": [
    {
     "name": "stdout",
     "output_type": "stream",
     "text": [
      "[ 2  4  6  8 10 12 14 16 18 20]\n",
      "[ 1  3  5  7  9 11 13 15 17 19]\n",
      "[1 2 3 4]\n",
      "[1 2 3 4 5]\n",
      "[19 20]\n",
      "[18 19 20]\n"
     ]
    }
   ],
   "source": [
    "print(x[ x%2 == 0])    # == returning the elements satisfying the expression\n",
    "print(x[ x%2 != 0])    # != returning the elements not satisfying the expression\n",
    "print(x[ x < 5])       # <  less\n",
    "print(x[ x <= 5])      # <= less equal\n",
    "print(x[ x > 18])      # >  greater\n",
    "print(x[ x >= 18])     # >= greater equal"
   ]
  },
  {
   "cell_type": "code",
   "execution_count": 33,
   "id": "e152894a",
   "metadata": {},
   "outputs": [
    {
     "name": "stdout",
     "output_type": "stream",
     "text": [
      "[ 6 12 18]\n",
      "[ 2  3  4  6  8  9 10 12 14 15 16 18 20]\n",
      "[ 1  3  5  7  9 11 13 15 17 19]\n"
     ]
    }
   ],
   "source": [
    "# we can mix the operations above with & | ~ to create variate expressions\n",
    "print(x[ (x%2 == 0) & (x%3 == 0)])  # and operator\n",
    "print(x[ (x%2 == 0) | (x%3 == 0)])  # or operator\n",
    "print(x[ ~(x%2 == 0)])              # not operator"
   ]
  },
  {
   "cell_type": "markdown",
   "id": "08e61837",
   "metadata": {},
   "source": [
    "## <font color = red> Sorting arrays</font>"
   ]
  },
  {
   "cell_type": "code",
   "execution_count": 34,
   "id": "dd4c6b4f",
   "metadata": {},
   "outputs": [
    {
     "name": "stdout",
     "output_type": "stream",
     "text": [
      "[11  9 10  6  5 19 17  4  9  6]\n"
     ]
    }
   ],
   "source": [
    "x = np.random.randint(1,20,10)\n",
    "print(x)"
   ]
  },
  {
   "cell_type": "code",
   "execution_count": 35,
   "id": "881509ed",
   "metadata": {},
   "outputs": [
    {
     "data": {
      "text/plain": [
       "array([ 4,  5,  6,  6,  9,  9, 10, 11, 17, 19])"
      ]
     },
     "execution_count": 35,
     "metadata": {},
     "output_type": "execute_result"
    }
   ],
   "source": [
    "np.sort(x) #it uses fast sort algorithm to sort the array."
   ]
  },
  {
   "cell_type": "markdown",
   "id": "3a78e728",
   "metadata": {},
   "source": [
    "## <font color = red> NumPy’s Structured Arrays </font>\n",
    "While often our data can be well represented by a homogeneous array of values,\n",
    "sometimes this is not the case. This section demonstrates the use of NumPy’s struc‐\n",
    "tured arrays and record arrays, which provide efficient storage for compound, hetero\n",
    "geneous data"
   ]
  },
  {
   "cell_type": "code",
   "execution_count": 36,
   "id": "aa0c0698",
   "metadata": {},
   "outputs": [
    {
     "name": "stdout",
     "output_type": "stream",
     "text": [
      "[('Alice', 25, 55. ) ('Bob', 45, 85.5) ('Cathy', 37, 68. )\n",
      " ('Doug', 19, 61.5)]\n"
     ]
    }
   ],
   "source": [
    "name = ['Alice', 'Bob', 'Cathy', 'Doug']\n",
    "age = [25, 45, 37, 19]\n",
    "weight = [55.0, 85.5, 68.0, 61.5]\n",
    "\n",
    "data = np.zeros(4, dtype={'names':('name', 'age', 'weight'),'formats':('U10', 'i4', 'f8')})\n",
    "\n",
    "data['name'] = name\n",
    "data['age'] = age\n",
    "data['weight'] = weight\n",
    "print(data)"
   ]
  },
  {
   "cell_type": "code",
   "execution_count": 37,
   "id": "9c8fdc45",
   "metadata": {},
   "outputs": [
    {
     "name": "stdout",
     "output_type": "stream",
     "text": [
      "['Alice' 'Bob' 'Cathy' 'Doug']\n"
     ]
    }
   ],
   "source": [
    "print(data['name'])"
   ]
  },
  {
   "cell_type": "code",
   "execution_count": 38,
   "id": "518d6395",
   "metadata": {},
   "outputs": [
    {
     "data": {
      "text/plain": [
       "array(['Alice', 'Doug'], dtype='<U10')"
      ]
     },
     "execution_count": 38,
     "metadata": {},
     "output_type": "execute_result"
    }
   ],
   "source": [
    "data[data['age'] < 30]['name']"
   ]
  }
 ],
 "metadata": {
  "kernelspec": {
   "display_name": "Python 3 (ipykernel)",
   "language": "python",
   "name": "python3"
  },
  "language_info": {
   "codemirror_mode": {
    "name": "ipython",
    "version": 3
   },
   "file_extension": ".py",
   "mimetype": "text/x-python",
   "name": "python",
   "nbconvert_exporter": "python",
   "pygments_lexer": "ipython3",
   "version": "3.11.4"
  }
 },
 "nbformat": 4,
 "nbformat_minor": 5
}
